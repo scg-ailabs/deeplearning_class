{
 "cells": [
  {
   "cell_type": "code",
   "execution_count": 1,
   "metadata": {
    "collapsed": false
   },
   "outputs": [
    {
     "name": "stdout",
     "output_type": "stream",
     "text": [
      "Package Loaded\n"
     ]
    }
   ],
   "source": [
    "import numpy as np\n",
    "import matplotlib.pyplot as plt\n",
    "%matplotlib inline\n",
    "print(\"Package Loaded\")"
   ]
  },
  {
   "cell_type": "code",
   "execution_count": 2,
   "metadata": {
    "collapsed": false
   },
   "outputs": [
    {
     "name": "stdout",
     "output_type": "stream",
     "text": [
      "\n",
      "Type of 'train_X' is <type 'numpy.ndarray'>\n",
      "Shape of 'train_X' is (1, 20)\n",
      "(\"Type of 'train_Y' is \", <type 'numpy.ndarray'>)\n",
      "(\"Shape of 'train_Y' is\", (1, 20))\n"
     ]
    },
    {
     "data": {
      "text/plain": [
       "<matplotlib.legend.Legend at 0x7ff5380eb290>"
      ]
     },
     "execution_count": 2,
     "metadata": {},
     "output_type": "execute_result"
    },
    {
     "data": {
      "image/png": "[encoded data removed]",
      "text/plain": [
       "<matplotlib.figure.Figure at 0x7ff5381aae10>"
      ]
     },
     "metadata": {},
     "output_type": "display_data"
    }
   ],
   "source": [
    "np.random.seed(1)\n",
    "def f(x, a, b):\n",
    "    n = train_X.size\n",
    "    vals = np.zeros((1, n))\n",
    "    for i in range(0, n):\n",
    "        ax = np.multiply(a, x.item(i))\n",
    "        val = np.add(ax, b)\n",
    "        vals[0, i] = val\n",
    "    return vals\n",
    "\n",
    "Wref = 0.7\n",
    "bref = -1.\n",
    "n = 20\n",
    "noise_var = 0.001\n",
    "train_X = np.random.random((1, n))\n",
    "ref_Y = f(train_X, Wref, bref)\n",
    "train_Y = ref_Y + np.sqrt(noise_var)*np.random.randn(1, n)\n",
    "n_samples = train_X.size\n",
    "\n",
    "print \"\"\n",
    "print \"Type of 'train_X' is %s\" % type(train_X)\n",
    "print \"Shape of 'train_X' is\", train_X.shape\n",
    "print (\"Type of 'train_Y' is \", type(train_Y))\n",
    "print (\"Shape of 'train_Y' is\", train_Y.shape)\n",
    "\n",
    "plt.figure(1)\n",
    "plt.plot(train_X[0, :], ref_Y[0, :], 'ro', label='Original data')\n",
    "plt.plot(train_X[0, :], train_Y[0, :], 'bo', label='Training data')\n",
    "plt.axis('equal')\n",
    "plt.legend(loc='lower right')"
   ]
  },
  {
   "cell_type": "markdown",
   "metadata": {},
   "source": [
    "### The cost function can be written in the following vectorized form: ###\n",
    "$$ J(\\theta)=\\frac{1}{2m}{(X\\theta - Y)}^{T}{(X\\theta - Y)} $$\n",
    "\n",
    "where\n",
    "\n",
    "$$\n",
    "X = \\begin{bmatrix}\n",
    "{({x}^{(1)})}^{T}\\\\\n",
    "{({x}^{(2)})}^{T}\\\\\n",
    "\\vdots\\\\\n",
    "{({x}^{(m)})}^{T}\n",
    "\\end{bmatrix}\n",
    "\\quad \\quad\n",
    "Y = \\begin{bmatrix}\n",
    "{y}^{(1)}\\\\\n",
    "{y}^{(2)}\\\\\n",
    "\\vdots\\\\\n",
    "{y}^{(m)}\n",
    "\\end{bmatrix}\n",
    "$$\n",
    "\n",
    "### Gradient ###\n",
    "$$ \\frac{\\partial}{\\partial \\theta} J(\\theta)=\\frac{1}{m}\\sum_{i=1}^m\\{h(x^{(i)}) - Y^{(i)}\\}x^{(i)}_j$$\n"
   ]
  },
  {
   "cell_type": "code",
   "execution_count": 3,
   "metadata": {
    "collapsed": false
   },
   "outputs": [
    {
     "name": "stdout",
     "output_type": "stream",
     "text": [
      "0 [[ 0.47899852  0.04916472]] 0.78535904418\n",
      "1000 [[-0.75646486  0.06187009]] 0.0120069468894\n",
      "2000 [[-0.85454873  0.31517491]] 0.00447825212355\n",
      "3000 [[-0.91322068  0.46671693]] 0.00178371489508\n",
      "4000 [[-0.94832114  0.55737686]] 0.000819333588929\n",
      "5000 [[-0.96931997  0.61161411]] 0.000474179217404\n",
      "6000 [[-0.98188251  0.64406152]] 0.000350647643924\n",
      "7000 [[-0.98939804  0.66347316]] 0.000306435398896\n",
      "8000 [[-0.9938942   0.67508616]] 0.000290611730862\n",
      "9000 [[-0.99658403  0.68203363]] 0.0002849484023\n",
      "10000 [[-0.99819322  0.68618996]] 0.000282921483489\n",
      "11000 [[-0.99915591  0.68867647]] 0.000282196044408\n",
      "12000 [[-0.99973184  0.69016403]] 0.00028193640803\n",
      "13000 [[-1.00007639  0.69105396]] 0.00028184348355\n",
      "14000 [[-1.00028252  0.69158636]] 0.000281810225657\n",
      "15000 [[-1.00040584  0.69190487]] 0.000281798322577\n",
      "16000 [[-1.00047961  0.69209542]] 0.000281794062437\n",
      "17000 [[-1.00052375  0.69220941]] 0.000281792537722\n",
      "18000 [[-1.00055015  0.69227761]] 0.000281791992024\n",
      "19000 [[-1.00056595  0.69231841]] 0.000281791796717\n",
      "[[-1.00057539  0.6923428 ]]\n"
     ]
    }
   ],
   "source": [
    "temp_X = np.insert(train_X, 0, 1, axis=0).T\n",
    "temp_Y = train_Y.T\n",
    "W = np.random.random((2, 1))\n",
    "\n",
    "def h(X, w):\n",
    "    return np.dot(X, w)\n",
    "\n",
    "def costF(X, w, Y):\n",
    "    #sqrErrors = np.power(h(X, w) - Y, 2)\n",
    "    #return np.sum(sqrErrors) / (2*n_samples)    \n",
    "    return float(np.dot((h(X, w) - Y).T, (h(X, w) - Y)) / (2*n_samples))\n",
    "\n",
    "def gradientDescent(X, Y, w, alpha, num_iters):\n",
    "    for i in xrange(num_iters):\n",
    "        #w[0] -= np.sum(np.multiply(h(X, w) - Y, X[:,0].reshape(n_samples, 1))) * alpha / n_samples\n",
    "        #w[1] -= np.sum(np.multiply(h(X, w) - Y, X[:,1].reshape(n_samples, 1))) * alpha / n_samples\n",
    "        for j in xrange(w.size):\n",
    "            w[j] -= np.sum(np.multiply(h(X, w) - Y, np.array(X[:,j].reshape(n_samples, 1)))) * alpha / n_samples\n",
    "        if i % 1000 == 0:\n",
    "            print i, w.T, costF(X, w, Y)\n",
    "    return w\n",
    "\n",
    "finalW = gradientDescent(temp_X, temp_Y, W, 0.01, 20000)\n",
    "print finalW.T"
   ]
  },
  {
   "cell_type": "code",
   "execution_count": 4,
   "metadata": {
    "collapsed": false
   },
   "outputs": [
    {
     "data": {
      "text/plain": [
       "<matplotlib.legend.Legend at 0x7ff533f4ff10>"
      ]
     },
     "execution_count": 4,
     "metadata": {},
     "output_type": "execute_result"
    },
    {
     "data": {
      "image/png": "[encoded data removed]",
      "text/plain": [
       "<matplotlib.figure.Figure at 0x7ff538044d90>"
      ]
     },
     "metadata": {},
     "output_type": "display_data"
    }
   ],
   "source": [
    "plt.figure(1)\n",
    "plt.plot(train_X[0, :], ref_Y[0, :], 'ro', label='Original data')\n",
    "plt.plot(train_X[0, :], train_Y[0, :], 'bo', label='Training data')\n",
    "plt.plot(train_X[0, :], h(temp_X, W).T[0, :], 'k', label='Fitting Line')\n",
    "plt.axis('equal')\n",
    "plt.legend(loc='lower right')"
   ]
  },
  {
   "cell_type": "code",
   "execution_count": null,
   "metadata": {
    "collapsed": true
   },
   "outputs": [],
   "source": []
  }
 ],
 "metadata": {
  "kernelspec": {
   "display_name": "Python 2",
   "language": "python",
   "name": "python2"
  },
  "language_info": {
   "codemirror_mode": {
    "name": "ipython",
    "version": 2
   },
   "file_extension": ".py",
   "mimetype": "text/x-python",
   "name": "python",
   "nbconvert_exporter": "python",
   "pygments_lexer": "ipython2",
   "version": "2.7.6"
  }
 },
 "nbformat": 4,
 "nbformat_minor": 1
}
