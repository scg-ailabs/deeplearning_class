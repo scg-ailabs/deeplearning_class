{
 "cells": [
  {
   "cell_type": "code",
   "execution_count": 1,
   "metadata": {
    "collapsed": false
   },
   "outputs": [
    {
     "name": "stdout",
     "output_type": "stream",
     "text": [
      "Package Loaded\n"
     ]
    }
   ],
   "source": [
    "import numpy as np\n",
    "import matplotlib.pyplot as plt\n",
    "%matplotlib inline\n",
    "print(\"Package Loaded\")"
   ]
  },
  {
   "cell_type": "code",
   "execution_count": 2,
   "metadata": {
    "collapsed": false
   },
   "outputs": [
    {
     "name": "stdout",
     "output_type": "stream",
     "text": [
      "\n",
      "Type of 'train_X' is <type 'numpy.ndarray'>\n",
      "Shape of 'train_X' is (1, 20)\n",
      "(\"Type of 'train_Y' is \", <type 'numpy.ndarray'>)\n",
      "(\"Shape of 'train_Y' is\", (1, 20))\n"
     ]
    },
    {
     "data": {
      "text/plain": [
       "<matplotlib.legend.Legend at 0x7f401d103410>"
      ]
     },
     "execution_count": 2,
     "metadata": {},
     "output_type": "execute_result"
    },
    {
     "data": {
      "image/png": "[encoded data removed]",
      "text/plain": [
       "<matplotlib.figure.Figure at 0x7f401d1c1dd0>"
      ]
     },
     "metadata": {},
     "output_type": "display_data"
    }
   ],
   "source": [
    "np.random.seed(1)\n",
    "def f(x, a, b):\n",
    "    n = train_X.size\n",
    "    vals = np.zeros((1, n))\n",
    "    for i in range(0, n):\n",
    "        ax = np.multiply(a, x.item(i))\n",
    "        val = np.add(ax, b)\n",
    "        vals[0, i] = val\n",
    "    return vals\n",
    "\n",
    "Wref = 0.7\n",
    "bref = -1.\n",
    "n = 20\n",
    "noise_var = 0.001\n",
    "train_X = np.random.random((1, n))\n",
    "ref_Y = f(train_X, Wref, bref)\n",
    "train_Y = ref_Y + np.sqrt(noise_var)*np.random.randn(1, n)\n",
    "n_samples = train_X.size\n",
    "\n",
    "print \"\"\n",
    "print \"Type of 'train_X' is %s\" % type(train_X)\n",
    "print \"Shape of 'train_X' is\", train_X.shape\n",
    "print (\"Type of 'train_Y' is \", type(train_Y))\n",
    "print (\"Shape of 'train_Y' is\", train_Y.shape)\n",
    "\n",
    "plt.figure(1)\n",
    "plt.plot(train_X[0, :], ref_Y[0, :], 'ro', label='Original data')\n",
    "plt.plot(train_X[0, :], train_Y[0, :], 'bo', label='Training data')\n",
    "plt.axis('equal')\n",
    "plt.legend(loc='lower right')"
   ]
  },
  {
   "cell_type": "markdown",
   "metadata": {},
   "source": [
    "### Hypothesis ###\n",
    "$$ h(x) = W^Tx + b $$\n",
    "\n",
    "### The cost function ###\n",
    "$$ J(\\theta)=\\frac{1}{2m}\\sum_{i=1}^m\\{h(x^{(i)}) - Y^{(i)}\\}^2$$\n",
    "\n",
    "### Gradient ###\n",
    "$$ \\frac{\\partial}{\\partial b} J(\\theta)=\\frac{1}{m}\\sum_{i=1}^m\\{h(x^{(i)}) - Y^{(i)}\\}$$\n",
    "\n",
    "$$ \\frac{\\partial}{\\partial b} J(\\theta)=\\frac{1}{m}\\sum_{i=1}^m\\{h(x^{(i)}) - Y^{(i)}\\}x^{(i)}$$\n"
   ]
  },
  {
   "cell_type": "code",
   "execution_count": 3,
   "metadata": {
    "collapsed": false
   },
   "outputs": [
    {
     "name": "stdout",
     "output_type": "stream",
     "text": [
      "0 [ 0.04356055] [ 0.48812673] 0.471112439034\n",
      "1000 [-0.87866453] [ 0.37748883] 0.00320633445422\n",
      "2000 [-0.92765317] [ 0.50399419] 0.00132849228361\n",
      "3000 [-0.95695537] [ 0.57967796] 0.000656408329633\n",
      "4000 [-0.97448539] [ 0.62495573] 0.000415867878186\n",
      "5000 [-0.98497272] [ 0.65204313] 0.000329777876424\n",
      "6000 [-0.99124676] [ 0.66824815] 0.00029896605929\n",
      "7000 [-0.9950002] [ 0.6779428] 0.000287938436387\n",
      "8000 [-0.99724569] [ 0.68374262] 0.000283991623826\n",
      "9000 [-0.99858905] [ 0.68721235] 0.000282579050189\n",
      "10000 [-0.99939272] [ 0.68928812] 0.000282073486713\n",
      "11000 [-0.99987351] [ 0.69052995] 0.000281892544338\n",
      "12000 [-1.00016115] [ 0.69127287] 0.00028182778463\n",
      "13000 [-1.00033323] [ 0.69171732] 0.000281804606976\n",
      "14000 [-1.00043617] [ 0.69198322] 0.000281796311638\n",
      "15000 [-1.00049776] [ 0.69214229] 0.000281793342717\n",
      "16000 [-1.0005346] [ 0.69223745] 0.000281792280133\n",
      "17000 [-1.00055664] [ 0.69229438] 0.000281791899832\n",
      "18000 [-1.00056983] [ 0.69232844] 0.000281791763721\n",
      "19000 [-1.00057772] [ 0.69234882] 0.000281791715007\n",
      "[ 0.692361] [-1.00058244]\n"
     ]
    }
   ],
   "source": [
    "def h(X, w, b):\n",
    "    return np.add((np.multiply(w, X)), b)\n",
    "\n",
    "def costF(X, w, b, Y):\n",
    "    sqrErrors = np.power(h(X, w, b) - Y, 2)\n",
    "    return np.sum(sqrErrors) / (2*n_samples)    \n",
    "\n",
    "def gradientDescent(X, Y, w, b, alpha, num_iters):\n",
    "    for i in xrange(num_iters):\n",
    "        b -= np.sum(h(X, w, b) - Y) * alpha / n_samples\n",
    "        w -= np.sum(np.multiply(h(X, w, b) - Y, X)) * alpha / n_samples\n",
    "        if i % 1000 == 0:\n",
    "            print i, b, w, costF(X, w, b, Y)\n",
    "    return b, w\n",
    "\n",
    "W = np.random.random(1)\n",
    "b = np.random.random(1)\n",
    "\n",
    "finalB, finalW = gradientDescent(train_X, train_Y, W, b, 0.01, 20000)\n",
    "print finalW, finalB"
   ]
  },
  {
   "cell_type": "code",
   "execution_count": 4,
   "metadata": {
    "collapsed": false
   },
   "outputs": [
    {
     "data": {
      "text/plain": [
       "<matplotlib.legend.Legend at 0x7f401cf9ff50>"
      ]
     },
     "execution_count": 4,
     "metadata": {},
     "output_type": "execute_result"
    },
    {
     "data": {
      "image/png": "[encoded data removed]",
      "text/plain": [
       "<matplotlib.figure.Figure at 0x7f401d1c1410>"
      ]
     },
     "metadata": {},
     "output_type": "display_data"
    }
   ],
   "source": [
    "plt.figure(1)\n",
    "plt.plot(train_X[0, :], ref_Y[0, :], 'ro', label='Original data')\n",
    "plt.plot(train_X[0, :], train_Y[0, :], 'bo', label='Training data')\n",
    "plt.plot(train_X[0, :], h(train_X, W, b)[0, :], 'k', label='Fitting Line')\n",
    "plt.axis('equal')\n",
    "plt.legend(loc='lower right')"
   ]
  }
 ],
 "metadata": {
  "kernelspec": {
   "display_name": "Python 2",
   "language": "python",
   "name": "python2"
  },
  "language_info": {
   "codemirror_mode": {
    "name": "ipython",
    "version": 2
   },
   "file_extension": ".py",
   "mimetype": "text/x-python",
   "name": "python",
   "nbconvert_exporter": "python",
   "pygments_lexer": "ipython2",
   "version": "2.7.6"
  }
 },
 "nbformat": 4,
 "nbformat_minor": 1
}
