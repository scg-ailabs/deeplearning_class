{
 "cells": [
  {
   "cell_type": "code",
   "execution_count": 1,
   "metadata": {
    "collapsed": false
   },
   "outputs": [
    {
     "name": "stdout",
     "output_type": "stream",
     "text": [
      "Package Loaded\n"
     ]
    }
   ],
   "source": [
    "import numpy as np\n",
    "import tensorflow as tf\n",
    "import matplotlib.pyplot as plt\n",
    "%matplotlib inline\n",
    "print(\"Package Loaded\")"
   ]
  },
  {
   "cell_type": "code",
   "execution_count": 2,
   "metadata": {
    "collapsed": false,
    "scrolled": true
   },
   "outputs": [
    {
     "name": "stdout",
     "output_type": "stream",
     "text": [
      "\n",
      "Type of 'train_X' is <type 'numpy.ndarray'>\n",
      "Shape of 'train_X' is (1, 20)\n",
      "(\"Type of 'train_Y' is \", <type 'numpy.ndarray'>)\n",
      "(\"Shape of 'train_Y' is\", (1, 20))\n"
     ]
    },
    {
     "data": {
      "text/plain": [
       "<matplotlib.legend.Legend at 0x7f009e62a690>"
      ]
     },
     "execution_count": 2,
     "metadata": {},
     "output_type": "execute_result"
    },
    {
     "data": {
      "image/png": "[encoded data removed]",
      "text/plain": [
       "<matplotlib.figure.Figure at 0x7f009e6fa210>"
      ]
     },
     "metadata": {},
     "output_type": "display_data"
    }
   ],
   "source": [
    "np.random.seed(1)\n",
    "def f(x, a, b):\n",
    "    n = train_X.size\n",
    "    vals = np.zeros((1, n))\n",
    "    for i in range(0, n):\n",
    "        ax = np.multiply(a, x.item(i))\n",
    "        val = np.add(ax, b)\n",
    "        vals[0, i] = val\n",
    "    return vals\n",
    "\n",
    "Wref = 0.7\n",
    "bref = -1.\n",
    "n = 20\n",
    "noise_var = 0.001\n",
    "train_X = np.random.random((1, n))\n",
    "ref_Y = f(train_X, Wref, bref)\n",
    "train_Y = ref_Y + np.sqrt(noise_var)*np.random.randn(1, n)\n",
    "n_samples = train_X.size\n",
    "\n",
    "print \"\"\n",
    "print \"Type of 'train_X' is %s\" % type(train_X)\n",
    "print \"Shape of 'train_X' is\", train_X.shape\n",
    "print (\"Type of 'train_Y' is \", type(train_Y))\n",
    "print (\"Shape of 'train_Y' is\", train_Y.shape)\n",
    "\n",
    "plt.figure(1)\n",
    "plt.plot(train_X[0, :], ref_Y[0, :], 'ro', label='Original data')\n",
    "plt.plot(train_X[0, :], train_Y[0, :], 'bo', label='Training data')\n",
    "plt.axis('equal')\n",
    "plt.legend(loc='lower right')"
   ]
  },
  {
   "cell_type": "markdown",
   "metadata": {},
   "source": [
    "### The cost function can be written in the following vectorized form: ###\n",
    "$$ J(\\theta)=\\frac{1}{2m}{(X\\theta - Y)}^{T}{(X\\theta - Y)} $$\n",
    "\n",
    "where\n",
    "\n",
    "$$\n",
    "X = \\begin{bmatrix}\n",
    "{({x}^{(1)})}^{T}\\\\\n",
    "{({x}^{(2)})}^{T}\\\\\n",
    "\\vdots\\\\\n",
    "{({x}^{(m)})}^{T}\n",
    "\\end{bmatrix}\n",
    "\\quad \\quad\n",
    "Y = \\begin{bmatrix}\n",
    "{y}^{(1)}\\\\\n",
    "{y}^{(2)}\\\\\n",
    "\\vdots\\\\\n",
    "{y}^{(m)}\n",
    "\\end{bmatrix}\n",
    "$$\n",
    "\n",
    "### math_ops.matmul(a, b, trainspose_a=False, transpose_b=False, a_is_sparse=False, b_is_sparse=False, name=None)###\n",
    "- Multiplies matrix a by matrix b, producing a * b. \n",
    "\n",
    "### class Variable(object)###\n",
    "- The variable constructor requires an initial value for the variable, wich can be a 'Tensor' of any type and shape.\n",
    "\n",
    "### array_ops.placeholder(dtype, shape=None, name='None)###\n",
    "- Insert a placeholder for a tensor that will be always fed.\n",
    "\n",
    "### class Optimizer(object)###\n",
    "#### minimize(loss, global_step=None, var_list=None, ... ) ####\n",
    "- compute_gradients + apply_gradients\n",
    "\n",
    "#### compute_gradients(loss, global_step=None, var_list=None, ... ) ####\n",
    "- compute partial derivateives of sum of 'loss' w.r.t. v in var_list\n",
    "- var_list : Optional list of 'tf.Variable' to update to minimize 'loss'. Defaults to the list : GraphKey.TRAINABLE_VARIABLES'.\n",
    "- returns : a list of (gradients, variable) pairs\n",
    "\n",
    "#### apply_gradients(grads_and_vars, ... ) ####\n",
    "- apply gradients to variables\n",
    "- grads_and_vars : List of (gradients, variable) pairs as returned by 'compute_gradients()'.\n",
    "- returns : an 'Operation' that applies the specified gradients. "
   ]
  },
  {
   "cell_type": "code",
   "execution_count": null,
   "metadata": {
    "collapsed": false
   },
   "outputs": [],
   "source": [
    "temp_X = np.insert(train_X, 0, 1, axis=0)\n",
    "temp_Y = train_Y\n",
    "\n",
    "def h(X, w):\n",
    "    return tf.matmul(w, X)\n",
    "\n",
    "def costF(X, Y, w):\n",
    "    return tf.matmul((h(X, w) - Y), (h(X, w) - Y), transpose_b=True) / (2*n_samples)\n",
    "\n",
    "X = tf.placeholder(tf.float64, name=\"input\")\n",
    "Y = tf.placeholder(tf.float64, name=\"output\")\n",
    "W = tf.cast(tf.Variable(tf.random_normal([1, 2]), \"weight\"), tf.float64)\n",
    "\n",
    "learning_rate = 0.01\n",
    "optimizer = tf.train.GradientDescentOptimizer(learning_rate)#.minimize(cost)\n",
    "#optimizer.minimize(costF(X, Y, W))\n",
    "#train = optimizer.minimize(costF(X, Y, W))\n",
    "train = optimizer.apply_gradients(optimizer.compute_gradients(costF(X, Y, W)))\n",
    "\n",
    "init = tf.initialize_all_variables()"
   ]
  },
  {
   "cell_type": "markdown",
   "metadata": {},
   "source": [
    "### class Session(BaseSession): ###\n",
    "**A 'Session' object encapsulates the environment in which 'Operation' objects are excuted, and 'Tensor' objects are evaluated.**\n",
    "#### __init__( ... ) ####\n",
    "- Creates a new TensorFlow session.\n",
    "\n",
    "#### close( ... ) ####\n",
    "- Close this session.\n",
    "\n",
    "#### as_default( ... ) ####\n",
    "- Returns a context manager that makes this object the default session.\n",
    "\n",
    "#### run(fetches, feed_dict=None, options=None, run_metadata=None) ####\n",
    "- Runs one \"step\" of TensorFlow computation, by running the necessary graph fragment to execute every 'Operation' and evaluate every 'Tensor' in 'fetches', substituting the values in 'feed_dict' for the corresponding input values.\n",
    "\n",
    "#### partial_run( ... ) ####\n",
    "- Experimental function : continues the execution with more feeds and fetches.\n"
   ]
  },
  {
   "cell_type": "code",
   "execution_count": null,
   "metadata": {
    "collapsed": false
   },
   "outputs": [
    {
     "name": "stdout",
     "output_type": "stream",
     "text": [
      "0 [[ 1.31555872]] [[ 0.8643229   0.00759933]]\n",
      "1000 [[ 0.01610072]] [[-0.71704727 -0.03997998]]\n",
      "2000 [[ 0.00595062]] [[-0.83086127  0.25396395]]\n",
      "3000 [[ 0.00231326]] [[-0.89898515  0.42993084]]\n",
      "4000 [[ 0.00100978]] [[-0.93976611  0.53526974]]\n",
      "5000 [[ 0.00054267]] [[-0.9641788   0.59832865]]\n",
      "6000 [[ 0.00037528]] [[-0.97879291  0.63607794]]\n",
      "7000 [[ 0.00031529]] [[-0.98754144  0.65867549]]\n",
      "8000 [[ 0.0002938]] [[-0.99277842  0.67220324]]\n",
      "9000 [[ 0.00028609]] [[-0.99591315  0.68030059]]\n",
      "10000 [[ 0.00028333]] [[-0.99778938  0.6851477 ]]\n",
      "11000 [[ 0.00028234]] [[-0.99891287  0.68804872]]\n",
      "12000 [[ 0.00028199]] [[-0.99958456  0.68978435]]\n",
      "13000 [[ 0.00028186]] [[-0.9999854   0.69082266]]\n",
      "14000 [[ 0.00028182]] [[-1.00022709  0.69144136]]\n"
     ]
    }
   ],
   "source": [
    "sess = tf.Session()\n",
    "#with tf.Session() as sess:\n",
    "sess.run(init)\n",
    "# print sess.run(costF(X, Y, W), feed_dict={X:temp_X, Y:temp_Y})\n",
    "for step in range(20001):\n",
    "    feed = {X:temp_X, Y:temp_Y}\n",
    "    sess.run(train, feed)\n",
    "    # sess.run(train, feed_dict={X:temp_X, Y:temp_Y})\n",
    "    if step % 1000 == 0:\n",
    "        print step, sess.run(costF(X, Y, W), feed), sess.run(W)"
   ]
  },
  {
   "cell_type": "code",
   "execution_count": null,
   "metadata": {
    "collapsed": false
   },
   "outputs": [],
   "source": [
    "plt.figure(1)\n",
    "plt.plot(train_X[0, :], ref_Y[0, :], 'ro', label='Original data')\n",
    "plt.plot(train_X[0, :], train_Y[0, :], 'bo', label='Training data')\n",
    "plt.plot(train_X[0, :], sess.run(h(X, W), feed_dict = {X:temp_X})[0, :], 'k', label='Fitting Line')\n",
    "plt.axis('equal')\n",
    "plt.legend(loc='lower right')"
   ]
  },
  {
   "cell_type": "code",
   "execution_count": null,
   "metadata": {
    "collapsed": true
   },
   "outputs": [],
   "source": []
  }
 ],
 "metadata": {
  "kernelspec": {
   "display_name": "Python 2",
   "language": "python",
   "name": "python2"
  },
  "language_info": {
   "codemirror_mode": {
    "name": "ipython",
    "version": 2
   },
   "file_extension": ".py",
   "mimetype": "text/x-python",
   "name": "python",
   "nbconvert_exporter": "python",
   "pygments_lexer": "ipython2",
   "version": "2.7.6"
  }
 },
 "nbformat": 4,
 "nbformat_minor": 1
}
