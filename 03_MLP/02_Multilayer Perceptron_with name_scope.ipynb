{
 "cells": [
  {
   "cell_type": "code",
   "execution_count": 1,
   "metadata": {
    "collapsed": false
   },
   "outputs": [
    {
     "name": "stdout",
     "output_type": "stream",
     "text": [
      "Package loaded!\n"
     ]
    }
   ],
   "source": [
    "import tensorflow as tf\n",
    "from tensorflow.examples.tutorials.mnist import input_data\n",
    "import time\n",
    "\n",
    "print(\"Package loaded!\")"
   ]
  },
  {
   "cell_type": "code",
   "execution_count": 2,
   "metadata": {
    "collapsed": false
   },
   "outputs": [
    {
     "name": "stdout",
     "output_type": "stream",
     "text": [
      "Extracting ./mnist/train-images-idx3-ubyte.gz\n",
      "Extracting ./mnist/train-labels-idx1-ubyte.gz\n",
      "Extracting ./mnist/t10k-images-idx3-ubyte.gz\n",
      "Extracting ./mnist/t10k-labels-idx1-ubyte.gz\n"
     ]
    }
   ],
   "source": [
    "_data_dir = \"./mnist/\"\n",
    "\n",
    "mnist = input_data.read_data_sets(_data_dir, one_hot=True)\n",
    "\n",
    "img_test = mnist.test.images\n",
    "label_test = mnist.test.labels"
   ]
  },
  {
   "cell_type": "code",
   "execution_count": 3,
   "metadata": {
    "collapsed": false
   },
   "outputs": [],
   "source": [
    "NUM_CLASSES = 10\n",
    "IMAGE_SIZE = 28\n",
    "IMAGE_PIXELS = IMAGE_SIZE * IMAGE_SIZE    #784\n",
    "NUM_HIDDEN1_NODE = 256\n",
    "NUM_HIDDEN2_NODE = 128\n",
    "\n",
    "stddev = 0.1\n",
    "\n",
    "x = tf.placeholder(\"float\", [None, IMAGE_PIXELS])\n",
    "y = tf.placeholder(\"float\", [None, NUM_CLASSES])\n",
    "\n",
    "def inference_mlp1(data_in, num_hidden_node):\n",
    "    with tf.name_scope('hidden'):\n",
    "        weights = tf.Variable(tf.random_normal([IMAGE_PIXELS, num_hidden_node], stddev=stddev), name='weights')\n",
    "        biases = tf.Variable(tf.zeros([num_hidden_node]), name='biases')\n",
    "        hypothesis_1 = tf.matmul(data_in, weights) + b\n",
    "        gz_1 = tf.sigmoid(hypothesis_1)\n",
    "        \n",
    "    with tf.name_scope('softmax_linear'):\n",
    "        weights = tf.Variable(tf.random_normal([num_hidden_node, NUM_CLASSES], stddev=stddev), name='weights')\n",
    "        biases = tf.Variable(tf.zeros([NUM_CLASSES]), name='biases')\n",
    "        hypothesis_2 = tf.matmul(gz_1, weights) + biases\n",
    "    return hypothesis_2\n",
    "\n",
    "def inference_mlp2(data_in, num_hidden1_node, num_hidden2_node):\n",
    "    with tf.name_scope('hidden1'):\n",
    "        weights = tf.Variable(tf.random_normal([IMAGE_PIXELS, num_hidden1_node], stddev=stddev), name='weights')\n",
    "        biases = tf.Variable(tf.zeros([num_hidden1_node]), name='biases')\n",
    "        hypothesis_1 = tf.matmul(data_in, weights) + biases\n",
    "        gz_1 = tf.sigmoid(hypothesis_1)\n",
    "        \n",
    "    with tf.name_scope('hidden2'):\n",
    "        weights = tf.Variable(tf.random_normal([num_hidden1_node, num_hidden2_node], stddev=stddev), name='weights')\n",
    "        biases = tf.Variable(tf.zeros([num_hidden2_node]), name='biases')\n",
    "        hypothesis_2 = tf.matmul(gz_1, weights) + biases\n",
    "        gz_2 = tf.sigmoid(hypothesis_2)\n",
    "        \n",
    "    with tf.name_scope('softmax_linear'):\n",
    "        weights = tf.Variable(tf.random_normal([num_hidden2_node, NUM_CLASSES], stddev=stddev), name='weights')\n",
    "        biases = tf.Variable(tf.zeros([NUM_CLASSES]), name='biases')\n",
    "        hypothesis_3 = tf.matmul(gz_2, weights) + biases\n",
    "    return hypothesis_3\n",
    "\n",
    "def cost(logits, labels):\n",
    "    return tf.reduce_mean(tf.nn.softmax_cross_entropy_with_logits(labels=labels, logits=logits))\n",
    "\n",
    "def training(loss, learning_rate):\n",
    "    optimizer = tf.train.AdamOptimizer(learning_rate)\n",
    "    global_step = tf.Variable(0, name='global_step', trainable=False)\n",
    "    train = optimizer.minimize(loss, global_step=global_step)\n",
    "    return train\n",
    "\n",
    "def evaluation(logits, labels):\n",
    "    pred = tf.equal(tf.argmax(tf.nn.softmax(logits), 1), tf.argmax(labels, 1))\n",
    "    accr = tf.reduce_mean(tf.cast(pred, \"float\"))\n",
    "    return accr"
   ]
  },
  {
   "cell_type": "code",
   "execution_count": 4,
   "metadata": {
    "collapsed": false
   },
   "outputs": [],
   "source": [
    "learning_rate = 0.001\n",
    "\n",
    "#logits = inference_mlp1(x, NUM_HIDDEN1_NODE)\n",
    "logits = inference_mlp2(x, NUM_HIDDEN1_NODE, NUM_HIDDEN2_NODE)\n",
    "loss = cost(logits, y)\n",
    "train = training(loss, learning_rate=learning_rate)\n",
    "eval_correct = evaluation(logits, y)\n",
    "\n",
    "init = tf.initialize_all_variables()"
   ]
  },
  {
   "cell_type": "code",
   "execution_count": 5,
   "metadata": {
    "collapsed": false
   },
   "outputs": [
    {
     "name": "stdout",
     "output_type": "stream",
     "text": [
      "Epoch: 000/020 cost: 1.041465471 train_acc: 0.950 test_acc: 0.912\n",
      "Epoch: 005/020 cost: 0.161058700 train_acc: 0.970 test_acc: 0.964\n",
      "Epoch: 010/020 cost: 0.071921972 train_acc: 0.985 test_acc: 0.975\n",
      "Epoch: 015/020 cost: 0.031656813 train_acc: 0.995 test_acc: 0.978\n",
      "Epoch: 020/020 cost: 0.013120665 train_acc: 0.995 test_acc: 0.980\n",
      "DONE\n",
      "20.6527581215\n"
     ]
    }
   ],
   "source": [
    "n_samples = mnist.train.num_examples\n",
    "batch_size = 200\n",
    "total_batch = int(n_samples / batch_size)\n",
    "start = time.time()\n",
    "total_epoch = 20\n",
    "\n",
    "# SESSION\n",
    "with tf.Session() as sess:\n",
    "    sess.run(init)\n",
    "    # MINI-BATCH LEARNING\n",
    "    for epoch in range(total_epoch + 1):\n",
    "        avg_cost = 0.\n",
    "        for i in range(total_batch):\n",
    "            batch_xs, batch_ys = mnist.train.next_batch(batch_size)\n",
    "            feed = {x:batch_xs, y:batch_ys}\n",
    "            sess.run(train, feed)\n",
    "            avg_cost += sess.run(loss, feed) / batch_size\n",
    "            \n",
    "        # DISPLAY\n",
    "        if epoch % 5 == 0:\n",
    "            feeds_train = {x:batch_xs, y:batch_ys}\n",
    "            feeds_test = {x: img_test, y: label_test}\n",
    "            train_acc = sess.run(eval_correct, feeds_train)\n",
    "            test_acc = sess.run(eval_correct, feeds_test)\n",
    "            print (\"Epoch: %03d/%03d cost: %.9f train_acc: %.3f test_acc: %.3f\" \n",
    "                   % (epoch, total_epoch, avg_cost, train_acc, test_acc))\n",
    "print (\"DONE\")\n",
    "print time.time() - start"
   ]
  },
  {
   "cell_type": "code",
   "execution_count": null,
   "metadata": {
    "collapsed": true
   },
   "outputs": [],
   "source": []
  }
 ],
 "metadata": {
  "kernelspec": {
   "display_name": "Python 2",
   "language": "python",
   "name": "python2"
  },
  "language_info": {
   "codemirror_mode": {
    "name": "ipython",
    "version": 2
   },
   "file_extension": ".py",
   "mimetype": "text/x-python",
   "name": "python",
   "nbconvert_exporter": "python",
   "pygments_lexer": "ipython2",
   "version": "2.7.6"
  }
 },
 "nbformat": 4,
 "nbformat_minor": 1
}
