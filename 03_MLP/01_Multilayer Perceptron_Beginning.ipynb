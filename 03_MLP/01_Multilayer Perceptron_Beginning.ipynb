{
 "cells": [
  {
   "cell_type": "code",
   "execution_count": null,
   "metadata": {
    "collapsed": false
   },
   "outputs": [],
   "source": [
    "import tensorflow as tf\n",
    "from tensorflow.examples.tutorials.mnist import input_data\n",
    "import time\n",
    "\n",
    "print(\"Package loaded!\")"
   ]
  },
  {
   "cell_type": "code",
   "execution_count": null,
   "metadata": {
    "collapsed": false
   },
   "outputs": [],
   "source": [
    "_data_dir = \"./mnist/\"\n",
    "\n",
    "mnist = input_data.read_data_sets(_data_dir, one_hot=True)\n",
    "\n",
    "img_test = mnist.test.images\n",
    "label_test = mnist.test.labels"
   ]
  },
  {
   "cell_type": "code",
   "execution_count": null,
   "metadata": {
    "collapsed": false
   },
   "outputs": [],
   "source": [
    "NUM_CLASSES = 10\n",
    "IMAGE_SIZE = 28\n",
    "IMAGE_PIXELS = IMAGE_SIZE * IMAGE_SIZE    #784\n",
    "NUM_HIDDEN1_NODE = 256\n",
    "NUM_HIDDEN2_NODE = 128\n",
    "\n",
    "stddev = 0.1\n",
    "\n",
    "x = tf.placeholder(\"float\", [None, IMAGE_PIXELS])\n",
    "y = tf.placeholder(\"float\", [None, NUM_CLASSES])\n",
    "W1 = tf.Variable(tf.random_normal([IMAGE_PIXELS, NUM_HIDDEN1_NODE], stddev=stddev))\n",
    "b1 = tf.Variable(tf.zeros([NUM_HIDDEN1_NODE]))\n",
    "W2_ = tf.Variable(tf.random_normal([NUM_HIDDEN1_NODE, NUM_CLASSES], stddev=stddev))\n",
    "b2_ = tf.Variable(tf.zeros([NUM_CLASSES]))\n",
    "W2 = tf.Variable(tf.random_normal([NUM_HIDDEN1_NODE, NUM_HIDDEN2_NODE], stddev=stddev))\n",
    "b2 = tf.Variable(tf.zeros([NUM_HIDDEN2_NODE]))\n",
    "W3 = tf.Variable(tf.random_normal([NUM_HIDDEN2_NODE, NUM_CLASSES], stddev=stddev))\n",
    "b3 = tf.Variable(tf.zeros([NUM_CLASSES]))\n",
    "\n",
    "def inference_mlp1(data_in, weight_1, bias_1, weight_2, bias_2):\n",
    "    hypothesis_1 = tf.matmul(data_in, weight_1) + bias_1\n",
    "    gz_1 = tf.sigmoid(hypothesis_1)\n",
    "    hypothesis_2 = tf.matmul(gz_1, weight_2) + bias_2\n",
    "    return hypothesis_2\n",
    "\n",
    "def inference_mlp2(data_in, weight_1, bias_1, weight_2, bias_2, weight_3, bias_3):\n",
    "    hypothesis_1 = tf.matmul(data_in, weight_1) + bias_1\n",
    "    gz_1 = tf.sigmoid(hypothesis_1)\n",
    "    hypothesis_2 = tf.matmul(gz_1, weight_2) + bias_2\n",
    "    gz_2 = tf.sigmoid(hypothesis_2)\n",
    "    hypothesis_3 = tf.matmul(gz_2, weight_3) + bias_3\n",
    "    return hypothesis_3\n",
    "\n",
    "def cost(logits, labels):\n",
    "    return tf.reduce_mean(tf.nn.softmax_cross_entropy_with_logits(labels=labels, logits=logits))\n",
    "\n",
    "def training(loss, learning_rate):\n",
    "    optimizer = tf.train.AdamOptimizer(learning_rate)\n",
    "    global_step = tf.Variable(0, name='global_step', trainable=False)\n",
    "    train = optimizer.minimize(loss, global_step=global_step)\n",
    "    return train\n",
    "\n",
    "def evaluation(logits, labels):\n",
    "    pred = tf.equal(tf.argmax(tf.nn.softmax(logits), 1), tf.argmax(labels, 1))\n",
    "    accr = tf.reduce_mean(tf.cast(pred, \"float\"))\n",
    "    return accr"
   ]
  },
  {
   "cell_type": "code",
   "execution_count": null,
   "metadata": {
    "collapsed": false
   },
   "outputs": [],
   "source": [
    "learning_rate = 0.001\n",
    "\n",
    "#logits = inference_mlp1(x, W1, b1, W2_, b2_)\n",
    "logits = inference_mlp2(x, W1, b1, W2, b2, W3, b3)\n",
    "loss = cost(logits, y)\n",
    "train = training(loss, learning_rate=learning_rate)\n",
    "eval_correct = evaluation(logits, y)\n",
    "\n",
    "init = tf.initialize_all_variables()"
   ]
  },
  {
   "cell_type": "code",
   "execution_count": null,
   "metadata": {
    "collapsed": false
   },
   "outputs": [],
   "source": [
    "n_samples = mnist.train.num_examples\n",
    "batch_size = 200\n",
    "total_batch = int(n_samples / batch_size)\n",
    "start = time.time()\n",
    "total_epoch = 30\n",
    "\n",
    "# SESSION\n",
    "with tf.Session() as sess:\n",
    "    sess.run(init)\n",
    "    # MINI-BATCH LEARNING\n",
    "    for epoch in range(total_epoch):\n",
    "        avg_cost = 0.\n",
    "        for i in range(total_batch + 1):\n",
    "            batch_xs, batch_ys = mnist.train.next_batch(batch_size)\n",
    "            feed = {x:batch_xs, y:batch_ys}\n",
    "            sess.run(train, feed)\n",
    "            avg_cost += sess.run(loss, feed) / batch_size\n",
    "            \n",
    "        # DISPLAY\n",
    "        if epoch % 5 == 0:\n",
    "            feeds_train = {x:batch_xs, y:batch_ys}\n",
    "            feeds_test = {x: img_test, y: label_test}\n",
    "            train_acc = sess.run(eval_correct, feeds_train)\n",
    "            test_acc = sess.run(eval_correct, feeds_test)\n",
    "            print (\"Epoch: %03d/%03d cost: %.9f train_acc: %.3f test_acc: %.3f\" \n",
    "                   % (epoch, total_epoch, avg_cost, train_acc, test_acc))\n",
    "print (\"DONE\")\n",
    "print time.time() - start"
   ]
  },
  {
   "cell_type": "code",
   "execution_count": null,
   "metadata": {
    "collapsed": true
   },
   "outputs": [],
   "source": []
  }
 ],
 "metadata": {
  "kernelspec": {
   "display_name": "Python 2",
   "language": "python",
   "name": "python2"
  },
  "language_info": {
   "codemirror_mode": {
    "name": "ipython",
    "version": 2
   },
   "file_extension": ".py",
   "mimetype": "text/x-python",
   "name": "python",
   "nbconvert_exporter": "python",
   "pygments_lexer": "ipython2",
   "version": "2.7.6"
  }
 },
 "nbformat": 4,
 "nbformat_minor": 1
}
