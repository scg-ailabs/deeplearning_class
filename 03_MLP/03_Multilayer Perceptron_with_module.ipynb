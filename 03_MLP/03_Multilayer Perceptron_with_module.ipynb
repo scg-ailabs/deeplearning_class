{
 "cells": [
  {
   "cell_type": "code",
   "execution_count": 1,
   "metadata": {
    "collapsed": false
   },
   "outputs": [
    {
     "name": "stdout",
     "output_type": "stream",
     "text": [
      "Package loaded!!\n"
     ]
    }
   ],
   "source": [
    "import tensorflow as tf\n",
    "from tensorflow.examples.tutorials.mnist import input_data\n",
    "import time\n",
    "print(\"Package loaded!!\")"
   ]
  },
  {
   "cell_type": "code",
   "execution_count": 2,
   "metadata": {
    "collapsed": false
   },
   "outputs": [
    {
     "name": "stdout",
     "output_type": "stream",
     "text": [
      "Extracting ./mnist/train-images-idx3-ubyte.gz\n",
      "Extracting ./mnist/train-labels-idx1-ubyte.gz\n",
      "Extracting ./mnist/t10k-images-idx3-ubyte.gz\n",
      "Extracting ./mnist/t10k-labels-idx1-ubyte.gz\n",
      "Data loaded!!\n"
     ]
    }
   ],
   "source": [
    "_data_dir = \"./mnist/\"\n",
    "\n",
    "mnist = input_data.read_data_sets(_data_dir, one_hot=True)\n",
    "print(\"Data loaded!!\")"
   ]
  },
  {
   "cell_type": "code",
   "execution_count": 3,
   "metadata": {
    "collapsed": true
   },
   "outputs": [],
   "source": [
    "img_test = mnist.test.images\n",
    "label_test = mnist.test.labels\n",
    "\n",
    "NUM_CLASSES = 10\n",
    "IMAGE_SIZE = 28\n",
    "IMAGE_PIXELS = IMAGE_SIZE * IMAGE_SIZE  # 784\n",
    "NUM_HIDDEN1_NODE = 256\n",
    "NUM_HIDDEN2_NODE = 128\n",
    "\n",
    "stddev = 0.1\n",
    "\n"
   ]
  },
  {
   "cell_type": "code",
   "execution_count": 4,
   "metadata": {
    "collapsed": false
   },
   "outputs": [],
   "source": [
    "def xavier_init(input_size, output_size):\n",
    "    stddev = tf.sqrt(2.0 / (input_size + out_size))\n",
    "    return tf.random_norm([input_size, output_size], stddev=stddev)\n",
    "\n",
    "def linear(data_in, output_size, name=\"linear\"):\n",
    "    with tf.variable_scope(name):\n",
    "        print data_in.get_shape()[-1], type(data_in.get_shape()[-1])\n",
    "        input_size = data_in.get_shape().as_list()[-1]\n",
    "        #weights = tf.Variable(xavier_init(input_size, output_size), name=\"weights\")\n",
    "        weights = tf.get_variable(\"weights\", shape=[input_size, output_size], initializer=tf.contrib.layers.xavier_initializer())\n",
    "        # weights = tf.Variable(tf.zeros([data_in.get_shape()[-1], output_size]), name=\"weights\")  \n",
    "        biases = tf.Variable(tf.zeros(output_size), name=\"biases\")\n",
    "        logits = tf.nn.xw_plus_b(data_in, weights, biases, name=\"logits\")\n",
    "        activation = tf.nn.sigmoid(logits, name=\"act\")\n",
    "        return logits, activation\n",
    "\n",
    "\n",
    "def inference_mlp1(data_in, num_hidden_node):\n",
    "    _, h1 = linear(data_in, num_hidden_node, name=\"linear1\")\n",
    "    logits, _ = linear(h1, NUM_CLASSES, name=\"linear2\")\n",
    "    return logits\n",
    "\n",
    "\n",
    "def inference_mlp2(data_in, num_hidden1_node, num_hidden2_node):\n",
    "    _, h1 = linear(data_in, num_hidden1_node, name=\"linear1\")\n",
    "    _, h2 = linear(h1, num_hidden2_node, name=\"linear2\")\n",
    "    logits, _ = linear(h2, NUM_CLASSES, name=\"linear3\")\n",
    "    return logits\n",
    "\n",
    "\n",
    "def cost(logits, labels):\n",
    "    return tf.reduce_mean(tf.nn.softmax_cross_entropy_with_logits(labels=labels, logits=logits))\n",
    "\n",
    "\n",
    "def training(loss, learning_rate):\n",
    "    optimizer = tf.train.AdamOptimizer(learning_rate)\n",
    "    global_step = tf.Variable(0, name='global_step', trainable=False)\n",
    "    train = optimizer.minimize(loss, global_step=global_step)\n",
    "    return train\n",
    "\n",
    "\n",
    "def evaluation(logits, labels):\n",
    "    pred = tf.equal(tf.argmax(tf.nn.softmax(logits), 1), tf.argmax(labels, 1))\n",
    "    accr = tf.reduce_mean(tf.cast(pred, \"float\"))\n",
    "\n",
    "    \n",
    "    return accr"
   ]
  },
  {
   "cell_type": "code",
   "execution_count": 5,
   "metadata": {
    "collapsed": false
   },
   "outputs": [
    {
     "name": "stdout",
     "output_type": "stream",
     "text": [
      "784 <class 'tensorflow.python.framework.tensor_shape.Dimension'>\n",
      "256 <class 'tensorflow.python.framework.tensor_shape.Dimension'>\n",
      "128 <class 'tensorflow.python.framework.tensor_shape.Dimension'>\n",
      "Epoch: 000/050 cost: 1.034192411 train_acc: 0.965 test_acc: 0.911\n",
      "Epoch: 005/050 cost: 0.166828964 train_acc: 0.935 test_acc: 0.962\n",
      "Epoch: 010/050 cost: 0.075388803 train_acc: 0.970 test_acc: 0.973\n",
      "Epoch: 015/050 cost: 0.034190502 train_acc: 1.000 test_acc: 0.978\n",
      "Epoch: 020/050 cost: 0.014784829 train_acc: 0.990 test_acc: 0.979\n",
      "Epoch: 025/050 cost: 0.005446980 train_acc: 1.000 test_acc: 0.979\n",
      "Epoch: 030/050 cost: 0.002131663 train_acc: 1.000 test_acc: 0.980\n",
      "Epoch: 035/050 cost: 0.000903715 train_acc: 1.000 test_acc: 0.981\n",
      "Epoch: 040/050 cost: 0.001787900 train_acc: 1.000 test_acc: 0.979\n",
      "Epoch: 045/050 cost: 0.000314917 train_acc: 1.000 test_acc: 0.981\n",
      "Epoch: 050/050 cost: 0.000198209 train_acc: 1.000 test_acc: 0.981\n",
      "DONE\n",
      "50.1449120045\n"
     ]
    }
   ],
   "source": [
    "mnist_graph = tf.Graph()\n",
    "\n",
    "with mnist_graph.as_default():\n",
    "    learning_rate = 0.001\n",
    "    x = tf.placeholder(\"float\", [None, IMAGE_PIXELS])\n",
    "    y = tf.placeholder(\"float\", [None, NUM_CLASSES])\n",
    "    #logits = inference_mlp1(x, NUM_HIDDEN1_NODE)\n",
    "    logits = inference_mlp2(x, NUM_HIDDEN1_NODE, NUM_HIDDEN2_NODE)\n",
    "    loss = cost(logits, y)\n",
    "    train = training(loss, learning_rate=learning_rate)\n",
    "    eval_correct = evaluation(logits, y)\n",
    "\n",
    "    init = tf.initialize_all_variables()\n",
    "\n",
    "    n_samples = mnist.train.num_examples\n",
    "    batch_size = 200\n",
    "    total_batch = int(n_samples / batch_size)\n",
    "    start = time.time()\n",
    "    total_epoch = 50\n",
    "\n",
    "# SESSION\n",
    "with tf.Session(graph=mnist_graph) as sess:\n",
    "    sess.run(init)\n",
    "    # MINI-BATCH LEARNING\n",
    "    for epoch in range(total_epoch + 1):\n",
    "        avg_cost = 0.\n",
    "        for i in range(total_batch):\n",
    "            batch_xs, batch_ys = mnist.train.next_batch(batch_size)\n",
    "            feed = {x: batch_xs, y: batch_ys}\n",
    "            sess.run(train, feed)\n",
    "            avg_cost += sess.run(loss, feed) / batch_size\n",
    "\n",
    "        # DISPLAY\n",
    "        if epoch % 5 == 0:\n",
    "            feeds_train = {x: batch_xs, y: batch_ys}\n",
    "            feeds_test = {x: img_test, y: label_test}\n",
    "            train_acc = sess.run(eval_correct, feeds_train)\n",
    "            test_acc = sess.run(eval_correct, feeds_test)\n",
    "            print (\"Epoch: %03d/%03d cost: %.9f train_acc: %.3f test_acc: %.3f\"\n",
    "                   % (epoch, total_epoch, avg_cost, train_acc, test_acc))\n",
    "print (\"DONE\")\n",
    "print time.time() - start"
   ]
  },
  {
   "cell_type": "code",
   "execution_count": null,
   "metadata": {
    "collapsed": true
   },
   "outputs": [],
   "source": []
  }
 ],
 "metadata": {
  "kernelspec": {
   "display_name": "Python 2",
   "language": "python",
   "name": "python2"
  },
  "language_info": {
   "codemirror_mode": {
    "name": "ipython",
    "version": 2
   },
   "file_extension": ".py",
   "mimetype": "text/x-python",
   "name": "python",
   "nbconvert_exporter": "python",
   "pygments_lexer": "ipython2",
   "version": "2.7.6"
  }
 },
 "nbformat": 4,
 "nbformat_minor": 1
}
