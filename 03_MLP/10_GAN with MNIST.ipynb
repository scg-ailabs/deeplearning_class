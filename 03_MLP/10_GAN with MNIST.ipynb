{
 "cells": [
  {
   "cell_type": "code",
   "execution_count": 3,
   "metadata": {
    "collapsed": false
   },
   "outputs": [
    {
     "name": "stdout",
     "output_type": "stream",
     "text": [
      "Packages loaded!\n"
     ]
    }
   ],
   "source": [
    "import tensorflow as tf\n",
    "from tensorflow.examples.tutorials.mnist import input_data\n",
    "import numpy as np\n",
    "import matplotlib.pyplot as plt\n",
    "import matplotlib.gridspec as gridspec\n",
    "import os\n",
    "from scipy.stats import norm\n",
    "%matplotlib inline\n",
    "\n",
    "print(\"Packages loaded!\")"
   ]
  },
  {
   "cell_type": "code",
   "execution_count": 4,
   "metadata": {
    "collapsed": false
   },
   "outputs": [
    {
     "data": {
      "text/plain": [
       "[<matplotlib.lines.Line2D at 0x7f2a19735950>]"
      ]
     },
     "execution_count": 4,
     "metadata": {},
     "output_type": "execute_result"
    },
    {
     "data": {
      "image/png": "[encoded data removed]",
      "text/plain": [
       "<matplotlib.figure.Figure at 0x7f2a23944f90>"
      ]
     },
     "metadata": {},
     "output_type": "display_data"
    }
   ],
   "source": [
    "mu, sigma = -1, 1\n",
    "xs = np.linspace(-5, 5, 1000)\n",
    "plt.plot(xs, norm.pdf(xs, loc=mu, scale=sigma))"
   ]
  },
  {
   "cell_type": "code",
   "execution_count": null,
   "metadata": {
    "collapsed": true
   },
   "outputs": [],
   "source": [
    "total_epoch = 10000\n",
    "batch_size = 200\n",
    "total_batch = int(1000 / batch_size)\n",
    "\n",
    "def mlp_layer(num_in, num_out, name):\n",
    "    with tf.name_scope(name):\n",
    "        weights = tf.Variable(tf.random_normal([num_in, num_out], stddev=0.1), name='weights')\n",
    "        biases = tf.Variable(tf.zeros([num_out]), name='biases')\n",
    "        logit = tf.matmul(num_in, num_out) + biases\n",
    "        gz = tf.sigmoid(logit_1)\n",
    "        return gz, logit\n",
    "\n",
    "def binary_mlp(data_in, num_hidden1_node, num_hidden2_node):\n",
    "    gz_1, _ = mlp_layer(data_in, num_hidden1_node, 'hidden1')\n",
    "    gz_2, _ = mlp_layer(gz_1, num_hidden2_node, 'hidden2')\n",
    "    _, logit = mlp_layer(gz_1, num_hidden2_node, 'linear')\n",
    "    \n",
    "def train(loss, ):"
   ]
  }
 ],
 "metadata": {
  "kernelspec": {
   "display_name": "Python 2",
   "language": "python",
   "name": "python2"
  },
  "language_info": {
   "codemirror_mode": {
    "name": "ipython",
    "version": 2
   },
   "file_extension": ".py",
   "mimetype": "text/x-python",
   "name": "python",
   "nbconvert_exporter": "python",
   "pygments_lexer": "ipython2",
   "version": "2.7.6"
  }
 },
 "nbformat": 4,
 "nbformat_minor": 1
}
