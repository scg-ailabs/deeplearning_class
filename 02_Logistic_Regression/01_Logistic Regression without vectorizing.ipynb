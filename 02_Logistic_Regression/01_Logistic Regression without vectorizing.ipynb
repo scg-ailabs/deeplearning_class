{
 "cells": [
  {
   "cell_type": "markdown",
   "metadata": {},
   "source": [
    "### data1.txt is from Chapter 2 of Ng's Machine learning class ###"
   ]
  },
  {
   "cell_type": "code",
   "execution_count": 1,
   "metadata": {
    "collapsed": false
   },
   "outputs": [
    {
     "name": "stdout",
     "output_type": "stream",
     "text": [
      "Package Loaded\n"
     ]
    }
   ],
   "source": [
    "import numpy as np\n",
    "import matplotlib.pyplot as plt\n",
    "import tensorflow as tf\n",
    "%matplotlib inline\n",
    "print(\"Package Loaded\")"
   ]
  },
  {
   "cell_type": "code",
   "execution_count": 2,
   "metadata": {
    "collapsed": false
   },
   "outputs": [
    {
     "name": "stdout",
     "output_type": "stream",
     "text": [
      "\n",
      "Type of 'train_X' is <type 'numpy.ndarray'>\n",
      "Shape of 'train_X' is (2, 100)\n",
      "(\"Type of 'train_Y' is \", <type 'numpy.ndarray'>)\n",
      "(\"Shape of 'train_Y' is\", (100,))\n",
      "(\"n_samples' is\", 100)\n"
     ]
    }
   ],
   "source": [
    "xy = np.loadtxt(\"data1.txt\", delimiter=',', unpack=True, dtype='float64')\n",
    "train_X = xy[0:-1]\n",
    "train_Y = xy[-1]\n",
    "\n",
    "n_samples = train_X[0].size\n",
    "\n",
    "print \"\"\n",
    "print \"Type of 'train_X' is %s\" % type(train_X)\n",
    "print \"Shape of 'train_X' is\", train_X.shape\n",
    "print (\"Type of 'train_Y' is \", type(train_Y))\n",
    "print (\"Shape of 'train_Y' is\", train_Y.shape)\n",
    "print (\"n_samples' is\", n_samples)"
   ]
  },
  {
   "cell_type": "code",
   "execution_count": 3,
   "metadata": {
    "collapsed": false
   },
   "outputs": [
    {
     "data": {
      "text/plain": [
       "<matplotlib.legend.Legend at 0x7fc6b64add50>"
      ]
     },
     "execution_count": 3,
     "metadata": {},
     "output_type": "execute_result"
    },
    {
     "data": {
      "image/png": "[encoded data removed]",
      "text/plain": [
       "<matplotlib.figure.Figure at 0x7fc6b6506d50>"
      ]
     },
     "metadata": {},
     "output_type": "display_data"
    }
   ],
   "source": [
    "pos = train_Y == 1\n",
    "neg = train_Y == 0\n",
    "\n",
    "plt.figure(1)\n",
    "plt.plot(train_X[0][pos], train_X[1][pos], 'r+', label='Admitted')\n",
    "plt.plot(train_X[0][neg], train_X[1][neg], 'bx', label='Not admitted')\n",
    "plt.axis('equal')\n",
    "plt.legend(loc='lower right')"
   ]
  },
  {
   "cell_type": "markdown",
   "metadata": {},
   "source": [
    "### Cost Function(minimize negative log-likelihood) ###\n",
    "$$\n",
    "J(\\theta) = -\\frac{1}{m}\\sum_{i=1}^{m} [y^{(i)}\\log(h_\\theta(x^{(i)})) + (1-y^{(i)})\\log(1-h_\\theta(x^{(i)}))]\n",
    "$$\n",
    "\n",
    "### Gradient ###\n",
    "$$\n",
    "\\frac{\\partial}{\\partial\\theta_j}J(\\theta)=\\frac{1}{n}\\sum^n_{i=1}(h_\\theta (x_i) - y_i)x_{ij}\n",
    "$$"
   ]
  },
  {
   "cell_type": "code",
   "execution_count": 4,
   "metadata": {
    "collapsed": false
   },
   "outputs": [
    {
     "name": "stdout",
     "output_type": "stream",
     "text": [
      "(1, 3) (3, 100)\n",
      "0 [[ 0.79215447  0.78570194  0.66002099]] nan\n",
      "10000 [[-3.19152468 -0.04658582  0.07501203]] 1.14216024184\n",
      "20000 [[-6.29377483 -0.05143074  0.14115753]] 1.02761586789\n",
      "30000 [[-8.67384573  0.17113803 -0.03723486]] 0.811753356595\n",
      "40000 [[-10.48559744   0.1793138    0.0281417 ]] 0.654117896871\n",
      "50000 [[-11.83095426   0.06710512   0.10094124]] 0.447897237358\n",
      "60000 [[-12.82913692   0.04399683   0.16571232]] 0.452218400481\n",
      "70000 [[-13.59006773   0.13764202   0.10934379]] 0.355386713834\n",
      "80000 [[-14.18188253   0.16256764   0.07092743]] 0.318926011707\n",
      "90000 [[-14.64832408   0.12227346   0.13142319]] 0.27193392468\n",
      "100000 [[-15.01887777   0.11293797   0.12399869]] 0.242862724634\n",
      "110000 [[-15.31559624   0.12763485   0.12183191]] 0.225085790173\n",
      "120000 [[-15.58224893   0.12975079   0.12398731]] 0.223663776728\n",
      "130000 [[-15.83652729   0.13177642   0.12603852]] 0.222370696301\n",
      "140000 [[-16.07942113   0.13371173   0.12799853]] 0.221190820412\n",
      "150000 [[-16.3118028    0.13556359   0.12987425]] 0.220110869098\n",
      "160000 [[-16.53444552   0.13733811   0.13167182]] 0.219119546497\n",
      "170000 [[-16.74803816   0.13904073   0.13339674]] 0.218207181886\n",
      "180000 [[-16.95319727   0.14067634   0.1350539 ]] 0.217365446347\n",
      "190000 [[-17.15047709   0.14224931   0.13664773]] 0.216587127046\n",
      "200000 [[-17.34037782   0.14376361   0.13818221]] 0.215865945824\n"
     ]
    }
   ],
   "source": [
    "temp_X = np.insert(train_X, 0, 1, axis=0)\n",
    "temp_Y = train_Y\n",
    "W = np.random.random((1, 3))\n",
    "print W.shape, temp_X.shape\n",
    "\n",
    "\n",
    "def h(X, w):\n",
    "    return np.dot(w, X)\n",
    "\n",
    "def sigmoid(x):\n",
    "    return 1 / (1 + np.exp(-x))\n",
    "\n",
    "def hypothesis(X, w):\n",
    "    return sigmoid(h(X, w))\n",
    "\n",
    "def costF(X, Y, w):\n",
    "    #return np.sum(-Y*np.log(hypothesis(X, w)) - (1-Y)*(np.log(1-hypothesis(X, w)))) / n_samples\n",
    "    return \n",
    "    \n",
    "def gradientDescent(X, Y, w, alpha, num_iters):\n",
    "    for i in xrange(num_iters):\n",
    "        for j in xrange(w.size):\n",
    "            w[0,j] -= np.sum(np.multiply(hypothesis(temp_X, W) - temp_Y, temp_X[j,:])) * alpha / n_samples\n",
    "        if i % 10000 == 0:\n",
    "            print i, w, costF(X, Y, w)\n",
    "    return w\n",
    "\n",
    "finalW = gradientDescent(temp_X, temp_Y, W, 0.005, 200001)"
   ]
  },
  {
   "cell_type": "code",
   "execution_count": 5,
   "metadata": {
    "collapsed": false
   },
   "outputs": [
    {
     "data": {
      "text/plain": [
       "<matplotlib.legend.Legend at 0x7fc6b6359ed0>"
      ]
     },
     "execution_count": 5,
     "metadata": {},
     "output_type": "execute_result"
    },
    {
     "data": {
      "image/png": "[encoded data removed]",
      "text/plain": [
       "<matplotlib.figure.Figure at 0x7fc6b6404310>"
      ]
     },
     "metadata": {},
     "output_type": "display_data"
    }
   ],
   "source": [
    "x = np.array([np.min(temp_X[1,:]), np.max(temp_X[1,:])])\n",
    "y = (-1./W[0,2])*(W[0,0] + W[0,1]*x)\n",
    "\n",
    "plt.figure(1)\n",
    "plt.plot(train_X[0][pos], train_X[1][pos], 'r+', label='Admitted')\n",
    "plt.plot(train_X[0][neg], train_X[1][neg], 'bx', label='Not admitted')\n",
    "plt.plot(x, y, 'r-', label='Decision Boundary')\n",
    "plt.axis('equal')\n",
    "plt.legend(loc='lower right')"
   ]
  },
  {
   "cell_type": "code",
   "execution_count": null,
   "metadata": {
    "collapsed": true
   },
   "outputs": [],
   "source": []
  }
 ],
 "metadata": {
  "kernelspec": {
   "display_name": "Python 2",
   "language": "python",
   "name": "python2"
  },
  "language_info": {
   "codemirror_mode": {
    "name": "ipython",
    "version": 2
   },
   "file_extension": ".py",
   "mimetype": "text/x-python",
   "name": "python",
   "nbconvert_exporter": "python",
   "pygments_lexer": "ipython2",
   "version": "2.7.6"
  }
 },
 "nbformat": 4,
 "nbformat_minor": 1
}
