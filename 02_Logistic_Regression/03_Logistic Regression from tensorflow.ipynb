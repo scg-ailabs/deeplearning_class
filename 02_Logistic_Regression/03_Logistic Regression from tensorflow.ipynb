{
 "cells": [
  {
   "cell_type": "code",
   "execution_count": 1,
   "metadata": {
    "collapsed": false
   },
   "outputs": [
    {
     "name": "stdout",
     "output_type": "stream",
     "text": [
      "Package Loaded\n"
     ]
    }
   ],
   "source": [
    "import numpy as np\n",
    "import matplotlib.pyplot as plt\n",
    "import tensorflow as tf\n",
    "import time\n",
    "%matplotlib inline\n",
    "print(\"Package Loaded\")"
   ]
  },
  {
   "cell_type": "markdown",
   "metadata": {},
   "source": [
    "### data1.txt is from Chapter 2 of Ng's Machine learning class ###"
   ]
  },
  {
   "cell_type": "code",
   "execution_count": 2,
   "metadata": {
    "collapsed": false
   },
   "outputs": [
    {
     "name": "stdout",
     "output_type": "stream",
     "text": [
      "\n",
      "Type of 'train_X' is <type 'numpy.ndarray'>\n",
      "Shape of 'train_X' is (2, 100)\n",
      "(\"Type of 'train_Y' is \", <type 'numpy.ndarray'>)\n",
      "(\"Shape of 'train_Y' is\", (100,))\n",
      "(\"n_samples' is\", 100)\n"
     ]
    }
   ],
   "source": [
    "xy = np.loadtxt(\"data1.txt\", delimiter=',', unpack=True, dtype='float64')\n",
    "train_X = xy[0:-1]\n",
    "train_Y = xy[-1]\n",
    "\n",
    "n_samples = train_X[0].size\n",
    "\n",
    "print \"\"\n",
    "print \"Type of 'train_X' is %s\" % type(train_X)\n",
    "print \"Shape of 'train_X' is\", train_X.shape\n",
    "print (\"Type of 'train_Y' is \", type(train_Y))\n",
    "print (\"Shape of 'train_Y' is\", train_Y.shape)\n",
    "print (\"n_samples' is\", n_samples)"
   ]
  },
  {
   "cell_type": "code",
   "execution_count": 3,
   "metadata": {
    "collapsed": false
   },
   "outputs": [
    {
     "data": {
      "text/plain": [
       "<matplotlib.legend.Legend at 0x7f40c5bdccd0>"
      ]
     },
     "execution_count": 3,
     "metadata": {},
     "output_type": "execute_result"
    },
    {
     "data": {
      "image/png": "[encoded data removed]",
      "text/plain": [
       "<matplotlib.figure.Figure at 0x7f40c5c34bd0>"
      ]
     },
     "metadata": {},
     "output_type": "display_data"
    }
   ],
   "source": [
    "pos = train_Y == 1\n",
    "neg = train_Y == 0\n",
    "\n",
    "plt.figure(1)\n",
    "plt.plot(train_X[0][pos], train_X[1][pos], 'r+', label='Admitted')\n",
    "plt.plot(train_X[0][neg], train_X[1][neg], 'bx', label='Not admitted')\n",
    "plt.axis('equal')\n",
    "plt.legend(loc='lower right')"
   ]
  },
  {
   "cell_type": "markdown",
   "metadata": {},
   "source": [
    "### Cost Function(minimize negative log-likelihood) ###\n",
    "$$\n",
    "J(\\theta) = -\\frac{1}{m}\\sum_{i=1}^{m} [y^{(i)}\\log(h_\\theta(x^{(i)})) + (1-y^{(i)})\\log(1-h_\\theta(x^{(i)}))]\n",
    "$$\n",
    "\n",
    "### Vectorized Form ###\n",
    "$$\n",
    "J(\\theta) = -\\frac{1}{m}((\\log(g(X\\theta)))^TY + (\\log(1-g(X\\theta)))^T(1-Y))\n",
    "$$"
   ]
  },
  {
   "cell_type": "code",
   "execution_count": 4,
   "metadata": {
    "collapsed": false
   },
   "outputs": [],
   "source": [
    "temp_X = np.insert(train_X, 0, 1, axis=0)\n",
    "temp_Y = train_Y.reshape([n_samples, 1])\n",
    "#W = np.random.random((1, 3))\n",
    "#print temp_Y.reshape(n_samples, 1)\n",
    "\n",
    "def h(X, w):\n",
    "    return tf.matmul(w, X)\n",
    "\n",
    "def hypothesis(X, w):\n",
    "    return tf.sigmoid(h(X, w))\n",
    "\n",
    "def costF(X, Y, w):\n",
    "    #return tf.reduce_mean(-Y*tf.log(hypothesis(X, w)) - (1-Y)*tf.log(1-hypothesis(X, w)))\n",
    "    return -(tf.matmul(tf.log(hypothesis(X, w)), Y) + tf.matmul(tf.log(1-hypothesis(X, w)), 1-Y)) / n_samples\n",
    "    #return tf.reduce_mean(tf.nn.sigmoid_cross_entropy_with_logits(hypothesis(X, w), Y))\n",
    "\n",
    "X = tf.placeholder(tf.float32, name=\"input\")\n",
    "Y = tf.placeholder(tf.float32, name=\"output\")\n",
    "W = tf.Variable(tf.zeros([1, 3]), \"weight\")\n",
    "\n",
    "learning_rate = 0.001\n",
    "optimizer = tf.train.GradientDescentOptimizer(learning_rate)\n",
    "train = optimizer.minimize(costF(X, Y, W))\n",
    "\n",
    "init = tf.initialize_all_variables()"
   ]
  },
  {
   "cell_type": "code",
   "execution_count": 5,
   "metadata": {
    "collapsed": false
   },
   "outputs": [
    {
     "name": "stdout",
     "output_type": "stream",
     "text": [
      "0 [[ 0.69829071]] [[  9.99999829e-05   1.20092155e-02   1.12628415e-02]]\n",
      "10000 [[ 0.58502346]] [[-0.66903025  0.01509195  0.00566287]]\n",
      "20000 [[ 0.54729187]] [[-1.28307223  0.01942402  0.01046469]]\n",
      "30000 [[ 0.51539886]] [[-1.84761941  0.02345053  0.01489054]]\n",
      "40000 [[ 0.4882932]] [[-2.36808419  0.02720064  0.01897688]]\n",
      "50000 [[ 0.46510208]] [[-2.84951591  0.03070208  0.02275992]]\n",
      "60000 [[ 0.44511712]] [[-3.29643321  0.03398013  0.02627328]]\n",
      "70000 [[ 0.42776635]] [[-3.71287036  0.0370579   0.0295478 ]]\n",
      "80000 [[ 0.41259655]] [[-4.10221577  0.03995499  0.03260975]]\n",
      "90000 [[ 0.39923346]] [[-4.46771193  0.04269103  0.03548457]]\n",
      "100000 [[ 0.38739201]] [[-4.81172657  0.04528009  0.03819091]]\n",
      "110000 [[ 0.37682819]] [[-5.13670206  0.0477375   0.04074807]]\n",
      "120000 [[ 0.36735573]] [[-5.4443984   0.05007411  0.04316997]]\n",
      "130000 [[ 0.3588126]] [[-5.73664427  0.0523018   0.04547104]]\n",
      "140000 [[ 0.35107377]] [[-6.01475859  0.05442891  0.04766173]]\n",
      "150000 [[ 0.34402484]] [[-6.2802844   0.0564659   0.04975417]]\n",
      "160000 [[ 0.33758965]] [[-6.53384399  0.05841639  0.05175326]]\n",
      "170000 [[ 0.33168143]] [[-6.77687216  0.06029045  0.0536703 ]]\n",
      "180000 [[ 0.32624152]] [[-7.01006746  0.06209268  0.05551074]]\n",
      "190000 [[ 0.3212156]] [[-7.23422098  0.06382853  0.05728076]]\n",
      "200000 [[ 0.31655321]] [[-7.45023251  0.06550439  0.05898743]]\n",
      "210000 [[ 0.31222969]] [[-7.65802097  0.06711912  0.06063005]]\n",
      "220000 [[ 0.30819237]] [[-7.85902882  0.06868356  0.06221996]]\n",
      "230000 [[ 0.3044301]] [[-8.05283737  0.07019409  0.06375375]]\n",
      "240000 [[ 0.30088475]] [[-8.24159431  0.07166713  0.0652484 ]]\n",
      "250000 [[ 0.29758811]] [[-8.42279243  0.07308284  0.06668398]]\n",
      "260000 [[ 0.29447865]] [[-8.59903812  0.07446139  0.06808106]]\n",
      "270000 [[ 0.29153928]] [[-8.7706995   0.07580541  0.06944252]]\n",
      "280000 [[ 0.28878447]] [[-8.93630791  0.07710328  0.07075665]]\n",
      "290000 [[ 0.28616232]] [[-9.09843254  0.07837494  0.07204378]]\n",
      "300000 [[ 0.28368866]] [[-9.25562096  0.07960889  0.07329234]]\n",
      "310000 [[ 0.28135017]] [[-9.40820885  0.0808076   0.07450493]]\n",
      "320000 [[ 0.27908921]] [[-9.55962849  0.08199801  0.07570881]]\n",
      "330000 [[ 0.27700627]] [[-9.70267963  0.08312335  0.07684668]]\n",
      "340000 [[ 0.27497354]] [[-9.84573078  0.08424938  0.07798504]]\n",
      "350000 [[ 0.27304107]] [[-9.98504639  0.08534665  0.07909416]]\n",
      "360000 [[ 0.27123162]] [[-10.11856079   0.0863988    0.08015754]]\n",
      "370000 [[ 0.26946288]] [[-10.2520752    0.08745147   0.08122135]]\n",
      "380000 [[ 0.26776454]] [[-10.38319588   0.08848578   0.08226652]]\n",
      "390000 [[ 0.26619327]] [[-10.50717354   0.08946417   0.08325512]]\n",
      "400000 [[ 0.26465482]] [[-10.6311512    0.090443     0.08424407]]\n",
      "410000 [[ 0.26314843]] [[-10.75512886   0.09142221   0.08523341]]\n",
      "420000 [[ 0.26174125]] [[-10.87335491   0.09235637   0.08617717]]\n",
      "430000 [[ 0.26040578]] [[-10.98779583   0.09326094   0.08709102]]\n",
      "440000 [[ 0.25909606]] [[-11.10223675   0.09416581   0.08800518]]\n",
      "450000 [[ 0.25781158]] [[-11.21667767   0.09507097   0.08891964]]\n",
      "460000 [[ 0.256585]] [[-11.32808113   0.09595241   0.08981011]]\n",
      "470000 [[ 0.25545102]] [[-11.43298531   0.09678264   0.09064887]]\n",
      "480000 [[ 0.25433704]] [[-11.53788948   0.09761311   0.09148788]]\n",
      "490000 [[ 0.25324279]] [[-11.64279366   0.09844381   0.09232713]]\n",
      "500000 [[ 0.25216794]] [[-11.74769783   0.09927472   0.09316662]]\n",
      "375.649982214\n"
     ]
    }
   ],
   "source": [
    "sess = tf.Session()\n",
    "\n",
    "sess.run(init)\n",
    "#feed = {X:temp_X, Y:temp_Y}\n",
    "#temp = tf.reshape(Y, [n_samples, 1])\n",
    "#print sess.run(temp, feed)\n",
    "#print sess.run(W), sess.run(costF(X, Y, W), feed_dict={X:temp_X, Y:temp_Y})\n",
    "start = time.time()\n",
    "for step in xrange(50001):\n",
    "    feed = {X:temp_X, Y:temp_Y}\n",
    "    sess.run(train, feed)\n",
    "    if step % 10000 == 0:\n",
    "        print step, sess.run(costF(X, Y, W), feed), sess.run(W)\n",
    "print time.time() - start"
   ]
  },
  {
   "cell_type": "markdown",
   "metadata": {},
   "source": [
    "### Using reduce_mean ###\n",
    "** spent time : 51.2828450203 sec/ 50000-iters**\n",
    "\n",
    "** Cost : 0.465102 **\n",
    "\n",
    "** W : [-1.28307223  0.01942402  0.01046469]**\n",
    "\n",
    "### Using vectorized form ###\n",
    "** spent time : 41.2695679665 sec/ 50000-iters **\n",
    "\n",
    "** Cost : 0.46510208 **\n",
    "\n",
    "** W : [-1.28307223  0.01942402  0.01046469]**"
   ]
  },
  {
   "cell_type": "code",
   "execution_count": 6,
   "metadata": {
    "collapsed": false
   },
   "outputs": [
    {
     "data": {
      "text/plain": [
       "<matplotlib.legend.Legend at 0x7f40897ecad0>"
      ]
     },
     "execution_count": 6,
     "metadata": {},
     "output_type": "execute_result"
    },
    {
     "data": {
      "image/png": "[encoded data removed]",
      "text/plain": [
       "<matplotlib.figure.Figure at 0x7f410c23cc50>"
      ]
     },
     "metadata": {},
     "output_type": "display_data"
    }
   ],
   "source": [
    "x = np.array([np.min(temp_X[1,:]), np.max(temp_X[1,:])])\n",
    "y = (-1./sess.run(W[0,2])*(sess.run(W[0,0]) + sess.run(W[0,1])*x))\n",
    "\n",
    "plt.figure(1)\n",
    "plt.plot(train_X[0][pos], train_X[1][pos], 'r+', label='Admitted')\n",
    "plt.plot(train_X[0][neg], train_X[1][neg], 'bx', label='Not admitted')\n",
    "plt.plot(x, y, 'r-', label='Decision Boundary')\n",
    "plt.axis('equal')\n",
    "plt.legend(loc='lower right')"
   ]
  },
  {
   "cell_type": "code",
   "execution_count": null,
   "metadata": {
    "collapsed": true
   },
   "outputs": [],
   "source": []
  }
 ],
 "metadata": {
  "kernelspec": {
   "display_name": "Python 2",
   "language": "python",
   "name": "python2"
  },
  "language_info": {
   "codemirror_mode": {
    "name": "ipython",
    "version": 2
   },
   "file_extension": ".py",
   "mimetype": "text/x-python",
   "name": "python",
   "nbconvert_exporter": "python",
   "pygments_lexer": "ipython2",
   "version": "2.7.6"
  }
 },
 "nbformat": 4,
 "nbformat_minor": 1
}
