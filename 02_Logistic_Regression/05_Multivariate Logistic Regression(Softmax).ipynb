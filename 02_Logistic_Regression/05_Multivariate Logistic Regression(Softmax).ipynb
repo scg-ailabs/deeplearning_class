{
 "cells": [
  {
   "cell_type": "code",
   "execution_count": null,
   "metadata": {
    "collapsed": false
   },
   "outputs": [],
   "source": [
    "import tensorflow as tf\n",
    "from tensorflow.examples.tutorials.mnist import input_data\n",
    "import time\n",
    "\n",
    "print(\"Package loaded!\")"
   ]
  },
  {
   "cell_type": "markdown",
   "metadata": {},
   "source": [
    "### MNIST Database\n",
    "\n",
    "Dataset of handwritten digits has a training set of 60,000 examples, and a test set of 10,000 examples from NIST.\n",
    "The resulting images contain grey levels as a result of the anti-aliasing technique used by the normalization algorithm. The images were centered in a 28x28 image by computing the center of mass of the pixels, and translating the image so as to position this point at the center of the 28x28 field.\n",
    "\n",
    "#### File Formats For The MNIST Database\n",
    "\n",
    "There are 4 files:\n",
    "\n",
    "- train-images-idx3-ubyte : training set images\n",
    "- train-labels-idx1-ubyte : training set labels\n",
    "- t10k-images-idx3-ubyte : test set images\n",
    "- t10k-labels-idx1-ubyte : test set labels\n",
    "\n",
    "The training set contains 60000 examples, and the test set 10000 examples.\n",
    "\n",
    "**Training Set Image File(train-images-idx3-ubyte)**\n",
    "\n",
    " [offset]\t| [type]\t\t\t| [value]\t| [desc]\t\n",
    "------------|-------------------|-----------|-------------\n",
    "0000|32 bit integer|0x00000803(2051)|magic number(MSB first)\n",
    "0004|32 bit integer|60000|number of images\n",
    "0008|32 bit integer|28|number of images\n",
    "0012|32 bit integer|28|number of columns\n",
    "0016|unsigned byte|??|pixel\n",
    "0017|unsigned byte|??|pixel\n",
    "......|||\n",
    "xxxx|unsigned byte|??|pixel\n",
    "Pixels are organized row-wise. Pixel values are 0 to 255. 0 means background(white), 255 means foreground(black).\n",
    "\n",
    "**Training Set Image File(train-labels-idx3-ubyte)**\n",
    "\n",
    " [offset]\t| [type]\t\t\t| [value]\t| [desc]\t\n",
    "------------|-------------------|-----------|-------------\n",
    "0000|32 bit integer|0x00000801(2049)|magic number\n",
    "0004|32 bit integer|60000|number of items\n",
    "0008|unsigned byte|??|label\n",
    "0009|unsigned byte|??|label\n",
    "......|||\n",
    "xxxx|unsigned byte|??|label\n",
    "The labels values are 0 to 9."
   ]
  },
  {
   "cell_type": "code",
   "execution_count": null,
   "metadata": {
    "collapsed": false
   },
   "outputs": [],
   "source": [
    "_data_dir = \"./mnist/\"\n",
    "\n",
    "mnist = input_data.read_data_sets(_data_dir, one_hot=True)\n",
    "\n",
    "img_test = mnist.test.images\n",
    "label_test = mnist.test.labels"
   ]
  },
  {
   "cell_type": "markdown",
   "metadata": {},
   "source": [
    "### Multivariate classification\n",
    "#### Softmax : normalized exponential function\n",
    "$$\n",
    "p(y=j|x;w, b) = \\frac{e^{W^{(j)T}x+b^{(j)}}}{\\sum^n_{i=1}e^{W^{(i)T}x+b^{(i)}}}\n",
    "$$\n",
    "\n",
    "#### Cross-entropy loss\n",
    "$$\n",
    "H(w, b) = E_y[l_{x_i}]= E_y[\\log{\\frac{1}{p(x_i)}}] \\\\\n",
    "\\quad\\quad\\quad\\quad\\quad\\quad\\quad=\\sum^n_{i=1}y_i\\log(\\frac{1}{p(x_i)}) \\\\\n",
    "\\quad\\quad\\quad\\quad\\quad\\quad\\quad= -\\sum^n_{i=1}y_i\\log(p(x_i))\n",
    "$$"
   ]
  },
  {
   "cell_type": "code",
   "execution_count": null,
   "metadata": {
    "collapsed": false
   },
   "outputs": [],
   "source": [
    "x = tf.placeholder(\"float\", [None, 28*28]) # 784\n",
    "y = tf.placeholder(\"float\", [None, 10])    # 0 ~ 9\n",
    "W = tf.Variable(tf.zeros([784, 10]))\n",
    "b = tf.Variable(tf.zeros([10]))\n",
    "\n",
    "def h(X, w, b):\n",
    "    return tf.matmul(X, w) + b\n",
    "\n",
    "def softmax(x):\n",
    "    return tf.nn.softmax(x)\n",
    "    #return tf.exp(x) / tf.reduce_sum(tf.exp(x))\n",
    "\n",
    "def costF(X, Y, w, b):\n",
    "    #return -tf.reduce_mean(tf.diag_part(tf.matmul(Y, tf.log(softmax(h(X, w, b))), transpose_b=True)))\n",
    "    #return tf.reduce_mean(-tf.reduce_sum(Y*tf.log(softmax(h(X, w, b))), reduction_indices=1))\n",
    "    #return -tf.reduce_sum(Y*tf.log(softmax(h(X, w, b))))\n",
    "    return tf.reduce_mean(tf.nn.softmax_cross_entropy_with_logits(labels=Y, logits=h(X, w, b)))\n",
    "\n",
    "ce = costF(x, y, W, b)\n",
    "\n",
    "learning_rate = 0.001\n",
    "optimizer = tf.train.AdamOptimizer(learning_rate)\n",
    "#train = optimizer.minimize(costF(x, y, W, b))\n",
    "train = optimizer.minimize(ce)"
   ]
  },
  {
   "cell_type": "code",
   "execution_count": null,
   "metadata": {
    "collapsed": false
   },
   "outputs": [],
   "source": [
    "# PREDICTION\n",
    "pred = tf.equal(tf.argmax(softmax(h(x, W, b)), 1), tf.argmax(y, 1)) \n",
    "# ACCURACY\n",
    "accr = tf.reduce_mean(tf.cast(pred, \"float\"))\n",
    "# INITIALIZER\n",
    "init = tf.initialize_all_variables()"
   ]
  },
  {
   "cell_type": "code",
   "execution_count": null,
   "metadata": {
    "collapsed": false
   },
   "outputs": [],
   "source": [
    "n_samples = mnist.train.num_examples\n",
    "batch_size = 100\n",
    "total_batch = int(n_samples / batch_size)\n",
    "start = time.time()\n",
    "\n",
    "# SESSION\n",
    "with tf.Session() as sess:\n",
    "    sess.run(init)\n",
    "    # MINI-BATCH LEARNING\n",
    "    for epoch in range(31):\n",
    "        avg_cost = 0.\n",
    "        for i in range(total_batch): \n",
    "            batch_xs, batch_ys = mnist.train.next_batch(batch_size)\n",
    "            feed = {x: batch_xs, y: batch_ys}\n",
    "            sess.run(train, feed)\n",
    "            avg_cost += sess.run(ce, feed)/batch_size\n",
    "\n",
    "        # DISPLAY\n",
    "        if epoch % 10 == 0:\n",
    "            feeds_train = {x: batch_xs, y: batch_ys}\n",
    "            feeds_test = {x: img_test, y: label_test}\n",
    "            train_acc = sess.run(accr, feeds_train)\n",
    "            test_acc = sess.run(accr, feeds_test)\n",
    "            print (\"Epoch: %03d/%03d cost: %.9f train_acc: %.3f test_acc: %.3f\" \n",
    "                   % (epoch, 30, avg_cost, train_acc, test_acc))\n",
    "print (\"DONE\")\n",
    "print time.time() - start"
   ]
  }
 ],
 "metadata": {
  "kernelspec": {
   "display_name": "Python 2",
   "language": "python",
   "name": "python2"
  },
  "language_info": {
   "codemirror_mode": {
    "name": "ipython",
    "version": 2
   },
   "file_extension": ".py",
   "mimetype": "text/x-python",
   "name": "python",
   "nbconvert_exporter": "python",
   "pygments_lexer": "ipython2",
   "version": "2.7.6"
  }
 },
 "nbformat": 4,
 "nbformat_minor": 1
}
