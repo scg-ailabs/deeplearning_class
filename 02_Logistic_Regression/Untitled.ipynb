{
 "cells": [
  {
   "cell_type": "code",
   "execution_count": 2,
   "metadata": {
    "collapsed": false
   },
   "outputs": [
    {
     "name": "stdout",
     "output_type": "stream",
     "text": [
      "P loaded\n"
     ]
    }
   ],
   "source": [
    "import tensorflow as tf\n",
    "from tensorflow.examples.tutorials.mnist import input_data\n",
    "\n",
    "print(\"P loaded\")"
   ]
  },
  {
   "cell_type": "code",
   "execution_count": 3,
   "metadata": {
    "collapsed": false
   },
   "outputs": [
    {
     "name": "stdout",
     "output_type": "stream",
     "text": [
      "Extracting ./mnist/train-images-idx3-ubyte.gz\n",
      "Extracting ./mnist/train-labels-idx1-ubyte.gz\n",
      "Extracting ./mnist/t10k-images-idx3-ubyte.gz\n",
      "Extracting ./mnist/t10k-labels-idx1-ubyte.gz\n"
     ]
    }
   ],
   "source": [
    "_data_dir = './mnist'\n",
    "mnist = input_data.read_data_sets(_data_dir, one_hot=True)\n",
    "img_test = mnist.test.images\n",
    "label_test = mnist.test.labels"
   ]
  },
  {
   "cell_type": "code",
   "execution_count": 4,
   "metadata": {
    "collapsed": true
   },
   "outputs": [],
   "source": [
    "NUM_CLASSES = 10\n",
    "IMAGE_SIZE = 28\n",
    "IMAGE_PIXELS = IMAGE_SIZE * IMAGE_SIZE\n",
    "NUM_HIDDEN_NODE = 256\n",
    "\n",
    "x = tf.placeholder(\"float\", [None, IMAGE_PIXELS])\n",
    "y = tf.placeholder(\"float\", [None, NUM_CLASSES])\n",
    "\n",
    "W1 = tf.Variable(tf.random_normal([IMAGE_PIXELS, NUM_HIDDEN_NODE], stddev=0.1))\n",
    "b1 = tf.Variable(tf.zeros([NUM_HIDDEN_NODE]))\n",
    "\n",
    "W2 = tf.Variable(tf.random_normal([NUM_HIDDEN_NODE, NUM_CLASSES], stddev=0.1))\n",
    "b2 = tf.Variable(tf.zeros([NUM_CLASSES]))"
   ]
  },
  {
   "cell_type": "code",
   "execution_count": 8,
   "metadata": {
    "collapsed": true
   },
   "outputs": [],
   "source": [
    "def inference_mlp(data_in, weight_1, bias_1, weight_2, bias_2):\n",
    "    hypothesis_1 = tf.matmul(data_in, weight_1) + bias_1\n",
    "    gz_1 = tf.sigmoid(hypothesis_1)\n",
    "    hypothesis_2 = tf.matmul(gz_1, weight_2) + bias_2\n",
    "    return hypothesis_2\n",
    "\n",
    "def cost(logits, labels):\n",
    "    return tf.reduce_mean(tf.nn.softmax_cross_entropy_with_logits(labels=labels, logits=logits))\n",
    "\n",
    "def training(loss, learning_rate):\n",
    "    optimizer = tf.train.AdamOptimizer(learning_rate)\n",
    "    train = optimizer.minimize(loss)\n",
    "    return train\n",
    "\n",
    "def evaluation(logits, labels):\n",
    "    pred = tf.equal(tf.argmax(tf.nn.softmax(logits), 1), tf.argmax(labels, 1))\n",
    "    accr = tf.reduce_mean(tf.cast(pred, \"float\"))\n",
    "    return accr"
   ]
  },
  {
   "cell_type": "code",
   "execution_count": 9,
   "metadata": {
    "collapsed": true
   },
   "outputs": [],
   "source": [
    "learning_rate = 0.001\n",
    "\n",
    "logits = inference_mlp(x, W1, b1, W2, b2)\n",
    "loss = cost(logits, y)\n",
    "train = training(loss, learning_rate)\n",
    "eval_correct = evaluation(logits, y)\n",
    "\n",
    "init = tf.initialize_all_variables()"
   ]
  },
  {
   "cell_type": "code",
   "execution_count": 13,
   "metadata": {
    "collapsed": false
   },
   "outputs": [
    {
     "name": "stdout",
     "output_type": "stream",
     "text": [
      "Epoch: 000/100 cost: 0.811026587 train_acc: 0.915 test_acc: 0.914\n",
      "Epoch: 005/100 cost: 0.204492467 train_acc: 0.955 test_acc: 0.957\n",
      "Epoch: 010/100 cost: 0.110938252 train_acc: 0.980 test_acc: 0.970\n",
      "Epoch: 015/100 cost: 0.064654506 train_acc: 0.990 test_acc: 0.976\n",
      "Epoch: 020/100 cost: 0.037795106 train_acc: 0.990 test_acc: 0.979\n",
      "Epoch: 025/100 cost: 0.021523071 train_acc: 0.995 test_acc: 0.980\n",
      "Epoch: 030/100 cost: 0.011925845 train_acc: 1.000 test_acc: 0.981\n",
      "Epoch: 035/100 cost: 0.006695282 train_acc: 1.000 test_acc: 0.981\n",
      "Epoch: 040/100 cost: 0.003729988 train_acc: 1.000 test_acc: 0.982\n",
      "Epoch: 045/100 cost: 0.002065380 train_acc: 1.000 test_acc: 0.982\n",
      "Epoch: 050/100 cost: 0.001158875 train_acc: 1.000 test_acc: 0.982\n",
      "Epoch: 055/100 cost: 0.000637483 train_acc: 1.000 test_acc: 0.982\n",
      "Epoch: 060/100 cost: 0.000345189 train_acc: 1.000 test_acc: 0.982\n",
      "Epoch: 065/100 cost: 0.000197429 train_acc: 1.000 test_acc: 0.982\n",
      "Epoch: 070/100 cost: 0.000105296 train_acc: 1.000 test_acc: 0.982\n",
      "Epoch: 075/100 cost: 0.000058575 train_acc: 1.000 test_acc: 0.982\n",
      "Epoch: 080/100 cost: 0.000075448 train_acc: 1.000 test_acc: 0.981\n",
      "Epoch: 085/100 cost: 0.000046011 train_acc: 1.000 test_acc: 0.982\n",
      "Epoch: 090/100 cost: 0.000034297 train_acc: 1.000 test_acc: 0.982\n",
      "Epoch: 095/100 cost: 0.000026093 train_acc: 1.000 test_acc: 0.982\n",
      "DONE\n"
     ]
    }
   ],
   "source": [
    "n_samples = mnist.train.num_examples\n",
    "batch_size = 200\n",
    "total_batch = int(n_samples / batch_size)\n",
    "total_epoch = 100\n",
    "\n",
    "with tf.Session() as sess:\n",
    "    sess.run(init)\n",
    "    \n",
    "    for epoch in range(total_epoch):\n",
    "        avg_cost = 0.\n",
    "        for i in range(total_batch):\n",
    "            batch_xs, batch_ys = mnist.train.next_batch(batch_size)\n",
    "            feed = {x: batch_xs, y: batch_ys}\n",
    "            sess.run(train, feed)\n",
    "            avg_cost += sess.run(loss, feed) / batch_size\n",
    "            \n",
    "        if epoch % 5 == 0:\n",
    "            feeds_train = {x: batch_xs, y: batch_ys}\n",
    "            feeds_test = {x: img_test, y: label_test}\n",
    "            train_acc = sess.run(eval_correct, feeds_train)\n",
    "            test_acc = sess.run(eval_correct, feeds_test)\n",
    "            print (\"Epoch: %03d/%03d cost: %.9f train_acc: %.3f test_acc: %.3f\"\n",
    "                  % (epoch, total_epoch, avg_cost, train_acc, test_acc))\n",
    "            \n",
    "print (\"DONE\")"
   ]
  },
  {
   "cell_type": "code",
   "execution_count": null,
   "metadata": {
    "collapsed": true
   },
   "outputs": [],
   "source": []
  }
 ],
 "metadata": {
  "kernelspec": {
   "display_name": "Python 2",
   "language": "python",
   "name": "python2"
  },
  "language_info": {
   "codemirror_mode": {
    "name": "ipython",
    "version": 2
   },
   "file_extension": ".py",
   "mimetype": "text/x-python",
   "name": "python",
   "nbconvert_exporter": "python",
   "pygments_lexer": "ipython2",
   "version": "2.7.6"
  }
 },
 "nbformat": 4,
 "nbformat_minor": 1
}
