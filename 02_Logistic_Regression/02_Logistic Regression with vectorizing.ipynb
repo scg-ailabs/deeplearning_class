{
 "cells": [
  {
   "cell_type": "code",
   "execution_count": 1,
   "metadata": {
    "collapsed": false
   },
   "outputs": [
    {
     "name": "stdout",
     "output_type": "stream",
     "text": [
      "Package Loaded\n"
     ]
    }
   ],
   "source": [
    "import numpy as np\n",
    "import matplotlib.pyplot as plt\n",
    "import tensorflow as tf\n",
    "%matplotlib inline\n",
    "print(\"Package Loaded\")"
   ]
  },
  {
   "cell_type": "markdown",
   "metadata": {},
   "source": [
    "### data1.txt is from Chapter 2 of Ng's Machine learning class ###"
   ]
  },
  {
   "cell_type": "code",
   "execution_count": 2,
   "metadata": {
    "collapsed": false
   },
   "outputs": [
    {
     "name": "stdout",
     "output_type": "stream",
     "text": [
      "\n",
      "Type of 'train_X' is <type 'numpy.ndarray'>\n",
      "Shape of 'train_X' is (2, 100)\n",
      "(\"Type of 'train_Y' is \", <type 'numpy.ndarray'>)\n",
      "(\"Shape of 'train_Y' is\", (100,))\n",
      "(\"n_samples' is\", 100)\n"
     ]
    }
   ],
   "source": [
    "xy = np.loadtxt(\"data1.txt\", delimiter=',', unpack=True, dtype='float64')\n",
    "train_X = xy[0:-1]\n",
    "train_Y = xy[-1]\n",
    "\n",
    "n_samples = train_X[0].size\n",
    "\n",
    "print \"\"\n",
    "print \"Type of 'train_X' is %s\" % type(train_X)\n",
    "print \"Shape of 'train_X' is\", train_X.shape\n",
    "print (\"Type of 'train_Y' is \", type(train_Y))\n",
    "print (\"Shape of 'train_Y' is\", train_Y.shape)\n",
    "print (\"n_samples' is\", n_samples)"
   ]
  },
  {
   "cell_type": "code",
   "execution_count": 3,
   "metadata": {
    "collapsed": false
   },
   "outputs": [
    {
     "data": {
      "text/plain": [
       "<matplotlib.legend.Legend at 0x7fe0d4a0fed0>"
      ]
     },
     "execution_count": 3,
     "metadata": {},
     "output_type": "execute_result"
    },
    {
     "data": {
      "image/png": "[encoded data removed]",
      "text/plain": [
       "<matplotlib.figure.Figure at 0x7fe0d4a68cd0>"
      ]
     },
     "metadata": {},
     "output_type": "display_data"
    }
   ],
   "source": [
    "pos = train_Y == 1\n",
    "neg = train_Y == 0\n",
    "\n",
    "plt.figure(1)\n",
    "plt.plot(train_X[0][pos], train_X[1][pos], 'r+', label='Admitted')\n",
    "plt.plot(train_X[0][neg], train_X[1][neg], 'bx', label='Not admitted')\n",
    "plt.axis('equal')\n",
    "plt.legend(loc='lower right')"
   ]
  },
  {
   "cell_type": "markdown",
   "metadata": {},
   "source": [
    "### Cost Function(minimize negative log-likelihood) ###\n",
    "$$\n",
    "J(\\theta) = -\\frac{1}{m}\\sum_{i=1}^{m} [y^{(i)}\\log(h_\\theta(x^{(i)})) + (1-y^{(i)})\\log(1-h_\\theta(x^{(i)}))]\n",
    "$$\n",
    "\n",
    "### Vectorized Form ###\n",
    "$$\n",
    "J(\\theta) = -\\frac{1}{m}((\\log(g(X\\theta)))^TY + (\\log(1-g(X\\theta)))^T(1-Y))\n",
    "$$\n",
    "\n",
    "### Gradient ###\n",
    "$$\n",
    "\\frac{\\partial}{\\partial\\theta_j}J(\\theta)=\\frac{1}{n}\\sum^n_{i=1}(h_\\theta (x_i) - y_i)x_{ij}\n",
    "$$\n",
    "\n",
    "### Vectorized Form ###\n",
    "$$\n",
    "\\frac{\\partial}{\\partial\\theta_j}J(\\theta)=\\frac{1}{n}X^T(g(\\theta X)-Y)\n",
    "$$"
   ]
  },
  {
   "cell_type": "code",
   "execution_count": 4,
   "metadata": {
    "collapsed": false
   },
   "outputs": [
    {
     "name": "stdout",
     "output_type": "stream",
     "text": [
      "0 [[ 0.24335417  0.88949528  0.26987361]] [ nan]\n",
      "10000 [[ 0.12801745  0.00953835 -0.00054272]] [ 0.63882671]\n",
      "20000 [[ 0.02230456  0.01027063  0.00027818]] [ 0.63137566]\n",
      "30000 [[-0.0820507   0.01099476  0.00108924]] [ 0.62411476]\n",
      "40000 [[-0.18506464  0.01171082  0.00189052]] [ 0.61703932]\n",
      "50000 [[-0.286754    0.01241891  0.0026821 ]] [ 0.61014466]\n",
      "60000 [[-0.38713596  0.0131191   0.00346408]] [ 0.60342614]\n",
      "70000 [[-0.48622805  0.01381149  0.00423654]] [ 0.59687918]\n",
      "80000 [[-0.58404809  0.01449617  0.00499959]] [ 0.59049922]\n",
      "90000 [[-0.68061417  0.01517323  0.00575331]] [ 0.58428178]\n",
      "100000 [[-0.77594461  0.01584277  0.00649782]] [ 0.57822244]\n",
      "110000 [[-0.87005788  0.01650489  0.00723322]] [ 0.57231683]\n",
      "120000 [[-0.96297258  0.01715968  0.00795962]] [ 0.56656069]\n",
      "130000 [[-1.05470741  0.01780724  0.00867714]] [ 0.56094981]\n",
      "140000 [[-1.14528113  0.01844767  0.00938589]] [ 0.55548007]\n",
      "150000 [[-1.2347125   0.01908108  0.01008599]] [ 0.55014743]\n",
      "160000 [[-1.32302027  0.01970755  0.01077757]] [ 0.54494794]\n",
      "170000 [[-1.41022315  0.0203272   0.01146073]] [ 0.53987775]\n",
      "180000 [[-1.49633978  0.02094011  0.01213561]] [ 0.53493308]\n",
      "190000 [[-1.58138871  0.0215464   0.01280232]] [ 0.53011027]\n",
      "200000 [[-1.66538836  0.02214615  0.013461  ]] [ 0.52540572]\n"
     ]
    }
   ],
   "source": [
    "temp_X = np.insert(train_X, 0, 1, axis=0)\n",
    "temp_Y = train_Y\n",
    "W = np.random.random((1, 3))\n",
    "\n",
    "def h(X, w):\n",
    "    return np.dot(w, X)\n",
    "\n",
    "def sigmoid(z):\n",
    "    return 1 / (1 + np.exp(-z))\n",
    "\n",
    "def hypothesis(X, w):\n",
    "    return sigmoid(h(X, w))\n",
    "\n",
    "def costF(X, Y, w):\n",
    "    return -(np.dot(np.log(hypothesis(X, w)), Y.T) + np.dot(np.log(1 - hypothesis(X, w)), (1 - Y).T)) / n_samples\n",
    "    \n",
    "def gradientDescent(X, Y, w, alpha, num_iters):\n",
    "    for i in xrange(num_iters):\n",
    "        w -= (np.dot(X, (hypothesis(X, w) - Y).T) / n_samples).T * alpha / n_samples\n",
    "        if i % 10000 == 0:\n",
    "            print i, w, costF(X, Y, w)\n",
    "    return w\n",
    "\n",
    "finalW = gradientDescent(temp_X, temp_Y, W, 0.015, 200001)"
   ]
  },
  {
   "cell_type": "code",
   "execution_count": 5,
   "metadata": {
    "collapsed": false
   },
   "outputs": [
    {
     "data": {
      "text/plain": [
       "<matplotlib.legend.Legend at 0x7fe0d48b93d0>"
      ]
     },
     "execution_count": 5,
     "metadata": {},
     "output_type": "execute_result"
    },
    {
     "data": {
      "image/png": "[encoded data removed]",
      "text/plain": [
       "<matplotlib.figure.Figure at 0x7fe0d497bf90>"
      ]
     },
     "metadata": {},
     "output_type": "display_data"
    }
   ],
   "source": [
    "x = np.array([np.min(temp_X[1,:]), np.max(temp_X[1,:])])\n",
    "y = (-1./W[0,2])*(W[0,0] + W[0,1]*x)\n",
    "\n",
    "plt.figure(1)\n",
    "plt.plot(train_X[0][pos], train_X[1][pos], 'r+', label='Admitted')\n",
    "plt.plot(train_X[0][neg], train_X[1][neg], 'bx', label='Not admitted')\n",
    "plt.plot(x, y, 'r-', label='Decision Boundary')\n",
    "plt.axis('equal')\n",
    "plt.legend(loc='lower right')"
   ]
  },
  {
   "cell_type": "code",
   "execution_count": null,
   "metadata": {
    "collapsed": true
   },
   "outputs": [],
   "source": []
  }
 ],
 "metadata": {
  "kernelspec": {
   "display_name": "Python 2",
   "language": "python",
   "name": "python2"
  },
  "language_info": {
   "codemirror_mode": {
    "name": "ipython",
    "version": 2
   },
   "file_extension": ".py",
   "mimetype": "text/x-python",
   "name": "python",
   "nbconvert_exporter": "python",
   "pygments_lexer": "ipython2",
   "version": "2.7.6"
  }
 },
 "nbformat": 4,
 "nbformat_minor": 1
}
