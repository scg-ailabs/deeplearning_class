{
 "cells": [
  {
   "cell_type": "code",
   "execution_count": 1,
   "metadata": {
    "collapsed": false
   },
   "outputs": [
    {
     "name": "stdout",
     "output_type": "stream",
     "text": [
      "Package Loaded\n"
     ]
    }
   ],
   "source": [
    "import numpy as np\n",
    "import matplotlib.pyplot as plt\n",
    "import tensorflow as tf\n",
    "%matplotlib inline\n",
    "print(\"Package Loaded\")"
   ]
  },
  {
   "cell_type": "markdown",
   "metadata": {},
   "source": [
    "### data2.txt is from Chapter 2 of Ng's Machine learning class ###"
   ]
  },
  {
   "cell_type": "code",
   "execution_count": 2,
   "metadata": {
    "collapsed": false
   },
   "outputs": [
    {
     "name": "stdout",
     "output_type": "stream",
     "text": [
      "\n",
      "Type of 'train_X' is <type 'numpy.ndarray'>\n",
      "Shape of 'train_X' is (2, 118)\n",
      "(\"Type of 'train_Y' is \", <type 'numpy.ndarray'>)\n",
      "(\"Shape of 'train_Y' is\", (118,))\n",
      "(\"n_samples' is\", 118)\n"
     ]
    }
   ],
   "source": [
    "xy = np.loadtxt(\"data2.txt\", delimiter=',', unpack=True, dtype='float64')\n",
    "train_X = xy[0:-1]\n",
    "train_Y = xy[-1]\n",
    "\n",
    "n_samples = train_X[0].size\n",
    "\n",
    "print \"\"\n",
    "print \"Type of 'train_X' is %s\" % type(train_X)\n",
    "print \"Shape of 'train_X' is\", train_X.shape\n",
    "print (\"Type of 'train_Y' is \", type(train_Y))\n",
    "print (\"Shape of 'train_Y' is\", train_Y.shape)\n",
    "print (\"n_samples' is\", n_samples)"
   ]
  },
  {
   "cell_type": "code",
   "execution_count": 3,
   "metadata": {
    "collapsed": false
   },
   "outputs": [
    {
     "data": {
      "text/plain": [
       "<matplotlib.legend.Legend at 0x7f247a97ec90>"
      ]
     },
     "execution_count": 3,
     "metadata": {},
     "output_type": "execute_result"
    },
    {
     "data": {
      "image/png": "[encoded data removed]",
      "text/plain": [
       "<matplotlib.figure.Figure at 0x7f247a922550>"
      ]
     },
     "metadata": {},
     "output_type": "display_data"
    }
   ],
   "source": [
    "pos = train_Y == 1\n",
    "neg = train_Y == 0\n",
    "\n",
    "plt.figure(figsize=(6,6))\n",
    "plt.plot(train_X[0][pos], train_X[1][pos], 'r+', label='y=1')\n",
    "plt.plot(train_X[0][neg], train_X[1][neg], 'bx', label='y=0')\n",
    "plt.xlabel('Microchip Test 1')\n",
    "plt.ylabel('Microchip Test 2')\n",
    "plt.axis('equal')\n",
    "plt.grid(True)\n",
    "plt.legend(loc='upper right')"
   ]
  },
  {
   "cell_type": "markdown",
   "metadata": {},
   "source": [
    "### Map the features into all polynomial terms of $x_1$ and $x_2$ up to the sixth power ###\n",
    "\n",
    "$$\n",
    "mapFeature(x) = \\begin{bmatrix}\n",
    "                1      \\\\\n",
    "                x_1    \\\\\n",
    "                x_2    \\\\\n",
    "                x_1^2  \\\\\n",
    "                x_1x_2 \\\\\n",
    "                x_2^2  \\\\\n",
    "                x_1^3  \\\\\n",
    "                \\vdots  \\\\\n",
    "                x_1x_2^5\\\\\n",
    "                x_2^6\n",
    "                \\end{bmatrix}\n",
    "$$"
   ]
  },
  {
   "cell_type": "code",
   "execution_count": 4,
   "metadata": {
    "collapsed": false
   },
   "outputs": [
    {
     "name": "stdout",
     "output_type": "stream",
     "text": [
      "(28, 118)\n"
     ]
    }
   ],
   "source": [
    "def mapFeature(x1, x2):\n",
    "    order = 6\n",
    "    y = np.ones([28, x1.size])\n",
    "    \n",
    "    line = 0\n",
    "    for i in xrange(order + 1):\n",
    "        for j in xrange(i+1):\n",
    "            y[line] = np.multiply(np.power(x1, j), np.power(x2, i-j))\n",
    "            line += 1\n",
    "    return y\n",
    "\n",
    "print mapFeature(train_X[0], train_X[1]).shape"
   ]
  },
  {
   "cell_type": "markdown",
   "metadata": {},
   "source": [
    "### Regularized Cost Function ###\n",
    "$$\n",
    "J(\\theta) = -\\frac{1}{m}\\sum_{i=1}^{m} [y^{(i)}\\log(h_\\theta(x^{(i)})) + (1-y^{(i)})\\log(1-h_\\theta(x^{(i)}))] + \\frac{\\lambda}{2m}\\sum_{j=1}^n\\theta_j^2\n",
    "$$"
   ]
  },
  {
   "cell_type": "code",
   "execution_count": 5,
   "metadata": {
    "collapsed": false
   },
   "outputs": [],
   "source": [
    "temp_X = mapFeature(train_X[0], train_X[1])\n",
    "temp_Y = train_Y.reshape([n_samples, 1])\n",
    "\n",
    "def h(X, w):\n",
    "    return tf.matmul(w, X)\n",
    "\n",
    "def hypothesis(X, w):\n",
    "    return tf.sigmoid(h(X, w))\n",
    "\n",
    "def costF(X, Y, w, lamb=0):\n",
    "    return -(tf.matmul(tf.log(hypothesis(X, w)), Y) + tf.matmul(tf.log(1-hypothesis(X, w)), 1-Y))\\\n",
    "            / n_samples + tf.matmul(w, w, transpose_b=True) * lamb / (2*n_samples)\n",
    "    #        / n_samples + tf.reduce_sum(tf.abs(w)) * lamb / (2*n_samples)\n",
    "    \n",
    "X = tf.placeholder(tf.float32, name=\"input\")\n",
    "Y = tf.placeholder(tf.float32, name=\"output\")\n",
    "W = tf.Variable(tf.zeros([1, 28]), \"weight\")\n",
    "\n",
    "reg_lambda = 1\n",
    "learning_rate = 0.001\n",
    "optimizer = tf.train.AdamOptimizer()\n",
    "train = optimizer.minimize(costF(X, Y, W, reg_lambda))\n",
    "\n",
    "init = tf.initialize_all_variables()"
   ]
  },
  {
   "cell_type": "code",
   "execution_count": 6,
   "metadata": {
    "collapsed": false
   },
   "outputs": [
    {
     "name": "stdout",
     "output_type": "stream",
     "text": [
      "0 [[ 0.6927126]]\n",
      "10000 [[ 0.4684335]]\n",
      "20000 [[ 0.46843326]]\n",
      "30000 [[ 0.46843287]]\n",
      "40000 [[ 0.46843293]]\n",
      "50000 [[ 0.46843383]]\n"
     ]
    }
   ],
   "source": [
    "sess = tf.Session()\n",
    "\n",
    "sess.run(init)\n",
    "for step in xrange(50001):\n",
    "    feed = {X:temp_X, Y:temp_Y}\n",
    "    sess.run(train, feed)\n",
    "    if step % 10000 == 0:\n",
    "        print step, sess.run(costF(X, Y, W), feed)"
   ]
  },
  {
   "cell_type": "code",
   "execution_count": 7,
   "metadata": {
    "collapsed": false
   },
   "outputs": [
    {
     "data": {
      "text/plain": [
       "<matplotlib.legend.Legend at 0x7f24281f8b50>"
      ]
     },
     "execution_count": 7,
     "metadata": {},
     "output_type": "execute_result"
    },
    {
     "data": {
      "image/png": "[encoded data removed]",
      "text/plain": [
       "<matplotlib.figure.Figure at 0x7f247a919050>"
      ]
     },
     "metadata": {},
     "output_type": "display_data"
    }
   ],
   "source": [
    "y = sess.run(h(X, W), feed_dict={X:temp_X})\n",
    "\n",
    "def plotBoundary(w, X, Y, lamb=0.):\n",
    "    xvals = np.linspace(-1,1.5,50)\n",
    "    yvals = np.linspace(-1,1.5,50)\n",
    "    zvals = np.zeros((len(xvals),len(yvals)))\n",
    "    for i in xrange(len(xvals)):\n",
    "        for j in xrange(len(yvals)):\n",
    "            myfeaturesij = mapFeature(np.array([xvals[i]]),np.array([yvals[j]]))\n",
    "            zvals[i][j] = np.dot(w,myfeaturesij)\n",
    "    zvals = zvals.transpose()\n",
    "\n",
    "    #u, v = np.meshgrid( xvals, yvals )\n",
    "    mycontour = plt.contour( xvals, yvals, zvals, [0])\n",
    "    #Kind of a hacky way to display a text on top of the decision boundary\n",
    "    myfmt = { 0:'Lambda = %d'%lamb}\n",
    "    plt.clabel(mycontour, inline=1, fontsize=15, fmt=myfmt)\n",
    "    plt.title(\"Decision Boundary\")\n",
    "\n",
    "plt.figure(figsize=(6,6))\n",
    "plt.plot(train_X[0][pos], train_X[1][pos], 'r+', label='y=1')\n",
    "plt.plot(train_X[0][neg], train_X[1][neg], 'bx', label='y=0')\n",
    "plotBoundary(sess.run(W), temp_X, y, reg_lambda)\n",
    "plt.xlabel('Microchip Test 1')\n",
    "plt.ylabel('Microchip Test 2')\n",
    "plt.axis('equal')\n",
    "plt.grid(True)\n",
    "plt.legend(loc='upper right')"
   ]
  },
  {
   "cell_type": "code",
   "execution_count": null,
   "metadata": {
    "collapsed": true
   },
   "outputs": [],
   "source": []
  }
 ],
 "metadata": {
  "kernelspec": {
   "display_name": "Python 2",
   "language": "python",
   "name": "python2"
  },
  "language_info": {
   "codemirror_mode": {
    "name": "ipython",
    "version": 2
   },
   "file_extension": ".py",
   "mimetype": "text/x-python",
   "name": "python",
   "nbconvert_exporter": "python",
   "pygments_lexer": "ipython2",
   "version": "2.7.6"
  }
 },
 "nbformat": 4,
 "nbformat_minor": 1
}
